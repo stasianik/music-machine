{
 "cells": [
  {
   "cell_type": "code",
   "execution_count": 1,
   "metadata": {},
   "outputs": [],
   "source": [
    "string = 'Here is a string of text'"
   ]
  },
  {
   "cell_type": "code",
   "execution_count": 2,
   "metadata": {},
   "outputs": [
    {
     "name": "stderr",
     "output_type": "stream",
     "text": [
      "Using TensorFlow backend.\n"
     ]
    }
   ],
   "source": [
    "from big_phoney import BigPhoney"
   ]
  },
  {
   "cell_type": "code",
   "execution_count": 3,
   "metadata": {},
   "outputs": [],
   "source": [
    "phoney = BigPhoney()"
   ]
  },
  {
   "cell_type": "code",
   "execution_count": 4,
   "metadata": {},
   "outputs": [
    {
     "data": {
      "text/plain": [
       "6"
      ]
     },
     "execution_count": 4,
     "metadata": {},
     "output_type": "execute_result"
    }
   ],
   "source": [
    "phoney.count_syllables(string)"
   ]
  },
  {
   "cell_type": "code",
   "execution_count": 6,
   "metadata": {},
   "outputs": [],
   "source": [
    "from big_phoney import BigPhoney\n",
    "import lyricsgenius as genius\n",
    "import random\n",
    "import nlpaug.augmenter.word as naw\n",
    "#from nlpaug.util import Action\n",
    "import re"
   ]
  },
  {
   "cell_type": "code",
   "execution_count": 7,
   "metadata": {},
   "outputs": [],
   "source": [
    "def get_target_lyrics(artist, title):\n",
    "    \n",
    "    api_key = 'YOUR_API_KEY_HERE'\n",
    "    api = genius.Genius(api_key)\n",
    "    api.remove_section_headers = True # Removes section headers like \"Verse\" and \"Intro\"\n",
    "    \n",
    "    #get song lyrics\n",
    "    song = api.search_song(artist, title)\n",
    "    \n",
    "    #clean up the target lyrics\n",
    "    target = song.lyrics\n",
    "    target = target.replace(\"\\u2005\",\" \")\n",
    "    target = target.replace(\"\\\\\",\" \")\n",
    "    target = target.replace(\"\\\\n\",\" \")\n",
    "    target = target.replace(\"(\",\" \")\n",
    "    target = target.replace(\")\",\" \")\n",
    "    target = target.replace(\"\\n\\n\",\"\\n\")\n",
    "    target = target.replace(\"\\n\\n\\n\",\"\\n\")\n",
    "    target = target.replace(\"2x\",\"\")\n",
    "    #create list of lines\n",
    "    target_lyrics = target.split(\"\\n\")\n",
    "    #print(\"Target lyrics:\")\n",
    "    #print(target_lyrics)\n",
    "    return target_lyrics"
   ]
  },
  {
   "cell_type": "code",
   "execution_count": 8,
   "metadata": {},
   "outputs": [],
   "source": [
    "def lyrics_to_list(file_name):\n",
    "    with open(file_name, 'r') as file:\n",
    "        data = file.read().split(\"====================\")\n",
    "        random_song = random.choice(data)\n",
    "        gen_lyrics = random_song.split(\"\\n\")\n",
    "        gen_lyrics = gen_lyrics[1:-1]\n",
    "#    print(gen_lyrics)\n",
    "    return gen_lyrics"
   ]
  },
  {
   "cell_type": "code",
   "execution_count": 9,
   "metadata": {},
   "outputs": [],
   "source": [
    "def fit_lyrics(gen_lyrics, target_lyrics):\n",
    "    print(gen_lyrics)\n",
    "    aug = naw.ContextualWordEmbsAug(model_path='bert-base-uncased', action=\"insert\")\n",
    "    print('aug')\n",
    "    phoney = BigPhoney()\n",
    "    print('initialized phoney')\n",
    "    def count_syls(text):\n",
    "    \n",
    "        schema = []\n",
    "    \n",
    "        for line in text:\n",
    "            syls = phoney.count_syllables(line)\n",
    "            schema.append(syls)\n",
    "            #print(syls,line)\n",
    "        \n",
    "        return schema\n",
    "    \n",
    "    def decontracted(phrase):\n",
    "        # specific\n",
    "        phrase = re.sub(r\"won\\'t\", \"will not\", phrase)\n",
    "        phrase = re.sub(r\"can\\'t\", \"can not\", phrase)\n",
    "\n",
    "        # general\n",
    "        phrase = re.sub(r\"n\\'t\", \" not\", phrase)\n",
    "        phrase = re.sub(r\"\\'re\", \" are\", phrase)\n",
    "        phrase = re.sub(r\"\\'s\", \" is\", phrase)\n",
    "        phrase = re.sub(r\"\\'d\", \" would\", phrase)\n",
    "        phrase = re.sub(r\"\\'ll\", \" will\", phrase)\n",
    "        phrase = re.sub(r\"\\'t\", \" not\", phrase)\n",
    "        phrase = re.sub(r\"\\'ve\", \" have\", phrase)\n",
    "        phrase = re.sub(r\"\\'m\", \" am\", phrase)\n",
    "        return phrase\n",
    "    \n",
    "    gen_schema = count_syls(gen_lyrics)\n",
    "    target_schema = count_syls(target_lyrics)\n",
    "#    print(target_schema)\n",
    "    #make generated lyrics same length as target lyrics\n",
    "    target_len = len(target_schema)\n",
    "    del gen_schema[target_len:]\n",
    "    del gen_lyrics[target_len:]\n",
    "    new_lyrics = []\n",
    "#    loop = 1\n",
    "    for num, line in enumerate(gen_lyrics):\n",
    "        \n",
    "        if (gen_schema[num] == target_schema[num]): \n",
    "            new_lyrics.append(line)\n",
    "        elif (gen_schema[num] != target_schema[num]):\n",
    "            syls = gen_schema[num]\n",
    "            track = 0\n",
    "            while syls != target_schema[num]:\n",
    "                #while syls don't match the target\n",
    "                #make syls the next syls \n",
    "                #if we're at the end then stop \n",
    "                if track == len(gen_schema)-1:\n",
    "                    end = True\n",
    "                    break\n",
    "                else:\n",
    "                    track = track + 1\n",
    "                    syls = gen_schema[track]\n",
    "                    line = gen_lyrics[track]\n",
    "                    end = False\n",
    "            if end == False:\n",
    "                new_lyrics.append(line)\n",
    "            #If we can't find a line that's the right size\n",
    "            if end:\n",
    "                line = decontracted(line)\n",
    "#                print(\"No matching line\")\n",
    "                #print(line)\n",
    "                while syls < target_schema[num]:\n",
    "#                    print(\"not enough syls\")\n",
    "                    original_line = line\n",
    "                    line = aug.augment(line)\n",
    "#                    print(line)\n",
    "                    syls = phoney.count_syllables(line)\n",
    "                #In case we overshoot (add too many syllables)\n",
    "                    if syls > target_schema[num]:\n",
    "                        #print(\"Oops we overshot\")\n",
    "                        line = original_line\n",
    "                        syls = phoney.count_syllables(line)\n",
    "                new_line = line\n",
    "#                print(\"the same line:\")\n",
    "#                print(line)\n",
    "                syls = gen_schema[num]\n",
    "                words = line.split(\" \")\n",
    "                while syls > target_schema[num]:\n",
    "#                    print(\"too many syls\")\n",
    "                    del words[-1]\n",
    "                    new_line = ' '.join(words)\n",
    "                    syls = phoney.count_syllables(new_line)\n",
    "                    #In case too many syllables are deleted\n",
    "                    if syls < target_schema[num]:\n",
    "                        #print(\"Oops, deleted too many\")\n",
    "                        new_line = aug.augment(new_line)\n",
    "                        syls = phoney.count_syllables(new_line)\n",
    "                new_lyrics.append(new_line)\n",
    "    return new_lyrics"
   ]
  },
  {
   "cell_type": "code",
   "execution_count": 10,
   "metadata": {},
   "outputs": [
    {
     "name": "stdout",
     "output_type": "stream",
     "text": [
      "Searching for \"Idina Menzel\" by Let it go...\n",
      "Done.\n",
      "['The snow glows white on the mountain tonight', 'Not a footprint to be seen', 'A kingdom of isolation', \"And it looks like I'm the queen\", 'The wind is howling like this swirling storm inside', \"Couldn't keep it in, Heaven knows I tried\", \"Don't let them in, don't let them see\", 'Be the good girl you always have to be', \"Conceal, don't feel, don't let them know\", 'Well, now they know', 'Let it go, let it go', \"Can't hold it back anymore\", 'Let it go, let it go', 'Turn away and slam the door', \"I don't care what they're going to say\", 'Let the storm rage on!', 'The cold never bothered me anyway', \"It's funny how some distance\", 'Makes everything seem small', 'And the fears that once controlled me', \"Can't get to me at all\", \"It's time to see what I can do\", 'To test the limits and break through', 'No right, no wrong, no rules for me', \"I'm free\", 'Let it go, let it go', \"I'm one with the wind and sky\", 'Let it go, let it go', \"You'll never see me cry\", \"Here I stand, and here I'll stay\", 'Let the storm rage on', 'My power flurries through the air into the ground', 'My soul is spiraling in frozen fractals all around', 'And one thought crystallizes like an icy blast:', \"I'm never going back, the past is in the past!\", 'Let it go, let it go', \"And I'll rise like the break of dawn\", 'Let it go, let it go', 'That perfect girl is gone', 'Here I stand in the light of day', 'Let the storm rage on!', 'The cold never bothered me anyway']\n",
      "aug\n",
      "initialized phoney\n",
      "['The snow glows white on the mountain tonight', 'Not a footprint to be seen', 'A kingdom of isolation', \"And it looks like I'm the queen\", 'The wind is howling like this swirling storm inside', \"Couldn't keep it in, Heaven knows I tried\", \"Don't let them in, don't let them see\", 'Be the good girl you always have to be', \"Conceal, don't feel, don't let them know\", 'Well, now they know', 'Let it go, let it go', \"Can't hold it back anymore\", 'Let it go, let it go', 'Turn away and slam the door', \"I don't care what they're going to say\", 'Let the storm rage on!', 'The cold never bothered me anyway', \"It's funny how some distance\", 'Makes everything seem small', 'And the fears that once controlled me', \"Can't get to me at all\", \"It's time to see what I can do\", 'To test the limits and break through', 'No right, no wrong, no rules for me', \"I'm free\", 'Let it go, let it go', \"I'm one with the wind and sky\", 'Let it go, let it go', \"You'll never see me cry\", \"Here I stand, and here I'll stay\", 'Let the storm rage on', 'My power flurries through the air into the ground', 'My soul is spiraling in frozen fractals all around', 'And one thought crystallizes like an icy blast:', \"I'm never going back, the past is in the past!\", 'Let it go, let it go', \"And I'll rise like the break of dawn\", 'Let it go, let it go', 'That perfect girl is gone', 'Here I stand in the light of day', 'Let the storm rage on!', 'The cold never bothered me anyway']\n"
     ]
    }
   ],
   "source": [
    "target_lyrics = get_target_lyrics('Idina Menzel','Let it go')\n",
    "gen_lyrics = target_lyrics\n",
    "new_lyrics = fit_lyrics(gen_lyrics,target_lyrics)\n",
    "print(new_lyrics)"
   ]
  },
  {
   "cell_type": "code",
   "execution_count": null,
   "metadata": {},
   "outputs": [],
   "source": []
  }
 ],
 "metadata": {
  "kernelspec": {
   "display_name": "Python 3",
   "language": "python",
   "name": "python3"
  },
  "language_info": {
   "codemirror_mode": {
    "name": "ipython",
    "version": 3
   },
   "file_extension": ".py",
   "mimetype": "text/x-python",
   "name": "python",
   "nbconvert_exporter": "python",
   "pygments_lexer": "ipython3",
   "version": "3.6.10"
  },
  "toc": {
   "base_numbering": 1,
   "nav_menu": {},
   "number_sections": true,
   "sideBar": true,
   "skip_h1_title": false,
   "title_cell": "Table of Contents",
   "title_sidebar": "Contents",
   "toc_cell": false,
   "toc_position": {},
   "toc_section_display": true,
   "toc_window_display": false
  }
 },
 "nbformat": 4,
 "nbformat_minor": 4
}
