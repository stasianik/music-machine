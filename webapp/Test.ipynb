{
 "cells": [
  {
   "cell_type": "code",
   "execution_count": 1,
   "metadata": {},
   "outputs": [
    {
     "name": "stderr",
     "output_type": "stream",
     "text": [
      "Using TensorFlow backend.\n"
     ]
    }
   ],
   "source": [
    "from flaskexample.utils import lyrics_to_list, get_target_lyrics, fit_lyrics"
   ]
  },
  {
   "cell_type": "code",
   "execution_count": 75,
   "metadata": {},
   "outputs": [
    {
     "name": "stdout",
     "output_type": "stream",
     "text": [
      "['you will never touch a thing tainted by my blood', 'vanity, blood, spilled by', 'at dawn we ride', 'the sky is pure blood', 'the marauding, devilish, are we', 'taste the wars, the hostility', 'the worst in, the worst out', 'judgment day is now, the time of your life is now', 'judgment day is now, the time of your life is now', 'you will never touch a thing tainted by my blood', 'you will never touch a thing', 'such is the power of the insane', 'unstable, unrestrained', 'staring at my cane', 'acting in self-defense', 'thriving, screaming for my life', 'victim of great evil, victim of my will', 'thriving, screaming for my life', 'staring at my hand all day and night', 'playing in blood', 'the horror of nightfall', 'the coldness of the street', 'thrown inside a coffin', 'pledged to die', 'a soul that can not be saved', 'no one shall mourn or pity my grave', 'pledged to die', 'a soul that can not be saved', 'no one shall mourn or pity my grave', 'pledged to die', 'a soul that can not be saved', 'no one']\n"
     ]
    }
   ],
   "source": [
    "gen_lyrics = lyrics_to_list('gpt2_gentext_Slayer.txt')"
   ]
  },
  {
   "cell_type": "code",
   "execution_count": 69,
   "metadata": {},
   "outputs": [
    {
     "name": "stdout",
     "output_type": "stream",
     "text": [
      "Searching for \"Idina Menzel\" by Let it go...\n",
      "Done.\n"
     ]
    }
   ],
   "source": [
    "target_lyrics = get_target_lyrics(\"Idina Menzel\",\"Let it go\")"
   ]
  },
  {
   "cell_type": "code",
   "execution_count": 12,
   "metadata": {},
   "outputs": [
    {
     "data": {
      "text/plain": [
       "\"i don't know how\""
      ]
     },
     "execution_count": 12,
     "metadata": {},
     "output_type": "execute_result"
    }
   ],
   "source": [
    "num = 1\n",
    "gen_lyrics[num+1]"
   ]
  },
  {
   "cell_type": "code",
   "execution_count": 13,
   "metadata": {},
   "outputs": [
    {
     "name": "stdout",
     "output_type": "stream",
     "text": [
      "WARNING:tensorflow:From /Users/stasianik/opt/anaconda3/envs/insight/lib/python3.6/site-packages/tensorflow_core/python/ops/resource_variable_ops.py:1630: calling BaseResourceVariable.__init__ (from tensorflow.python.ops.resource_variable_ops) with constraint is deprecated and will be removed in a future version.\n",
      "Instructions for updating:\n",
      "If using Keras pass *_constraint arguments to layers.\n"
     ]
    },
    {
     "name": "stderr",
     "output_type": "stream",
     "text": [
      "WARNING:tensorflow:From /Users/stasianik/opt/anaconda3/envs/insight/lib/python3.6/site-packages/tensorflow_core/python/ops/resource_variable_ops.py:1630: calling BaseResourceVariable.__init__ (from tensorflow.python.ops.resource_variable_ops) with constraint is deprecated and will be removed in a future version.\n",
      "Instructions for updating:\n",
      "If using Keras pass *_constraint arguments to layers.\n"
     ]
    },
    {
     "name": "stdout",
     "output_type": "stream",
     "text": [
      "WARNING:tensorflow:From /Users/stasianik/opt/anaconda3/envs/insight/lib/python3.6/site-packages/keras/backend/tensorflow_backend.py:422: The name tf.global_variables is deprecated. Please use tf.compat.v1.global_variables instead.\n",
      "\n"
     ]
    },
    {
     "name": "stderr",
     "output_type": "stream",
     "text": [
      "WARNING:tensorflow:From /Users/stasianik/opt/anaconda3/envs/insight/lib/python3.6/site-packages/keras/backend/tensorflow_backend.py:422: The name tf.global_variables is deprecated. Please use tf.compat.v1.global_variables instead.\n",
      "\n"
     ]
    },
    {
     "name": "stdout",
     "output_type": "stream",
     "text": [
      "[10, 7, 8, 7, 12, 10, 8, 10, 8, 4, 6, 7, 6, 7, 9, 5, 10, 7, 6, 8, 6, 8, 8, 8, 2, 6, 7, 6, 6, 7, 5, 12, 14, 12, 12, 6, 8, 6, 6, 8, 5, 10]\n"
     ]
    },
    {
     "name": "stderr",
     "output_type": "stream",
     "text": [
      "../torch/csrc/utils/python_arg_parser.cpp:756: UserWarning: This overload of nonzero is deprecated:\n",
      "\tnonzero(Tensor input, *, Tensor out)\n",
      "Consider using one of the following signatures instead:\n",
      "\tnonzero(Tensor input, *, bool as_tuple)\n"
     ]
    },
    {
     "data": {
      "text/plain": [
       "['i remember feeling scared at the word',\n",
       " \"always feelin ' so lonely\",\n",
       " \"i don ' ' t t ' t know just how\",\n",
       " 'i can communicate with',\n",
       " 'mind you , and i only communicate',\n",
       " '\" ... but , if you tell me all that , i mean can',\n",
       " '\" let me tell you \\' bout your love life',\n",
       " \"you ' ' d better get down on your hind knees\",\n",
       " 'and , i think , not just about you',\n",
       " 'refer to your',\n",
       " 'you recreate your youth',\n",
       " 'and the memories will burn',\n",
       " 'in your very own dreams',\n",
       " 'of course a lifetime ago',\n",
       " '\" remember , you can \\' t erase them',\n",
       " 'the past is living',\n",
       " 'fate has now been completely been removed',\n",
       " \"you can ' t erase his guilt\",\n",
       " \"you can't erase the past\",\n",
       " \"you can't prevent the memories\",\n",
       " \"you can't erase the past,\",\n",
       " 'you call it your very own',\n",
       " \"but that ' s just another\",\n",
       " 'feeling much too tired to go',\n",
       " 'desperate',\n",
       " 'passing the point of no',\n",
       " 'robbing telephone ringside',\n",
       " 'saving for my soul by',\n",
       " 'paper cats all over',\n",
       " 'we pass the point end of',\n",
       " 'treachery in the',\n",
       " 'we walk alone towards the promised land',\n",
       " '2 .x',\n",
       " 'not passing the point of no']"
      ]
     },
     "execution_count": 13,
     "metadata": {},
     "output_type": "execute_result"
    }
   ],
   "source": [
    "fit_lyrics(gen_lyrics,target_lyrics)"
   ]
  },
  {
   "cell_type": "code",
   "execution_count": 14,
   "metadata": {},
   "outputs": [
    {
     "name": "stdout",
     "output_type": "stream",
     "text": [
      "[\"i remember feeling scared at the word 'nerd'\", \"feelin' so lonely\", \"i don't know how\", 'i can communicate with my mind', 'mind you, i only communicate with my spirit', 'if you tell me that i can', \"let me tell you 'bout your life\", \"you'd better get down on your knees\", 'and think about you', 'refer to your past', 'recreate your youth', 'and the memories will burn', 'in your dreams', 'of a lifetime ago', \"remember you can't erase them\", 'the past is living in your mind', 'fate has been removed', \"you can't erase guilt\", \"you can't erase the past\", \"you can't prevent the memories from re-collected\", \"you can't erase the past, present, and future\", 'you call it your own', \"but that's another day, another pain\", 'feeling much too tired to go back', 'desperate enough to Escape 2x', 'passing the point of no return', 'robbing telephone ringside', 'saving my soul by taking my money', 'paper cats all over the ground', 'we pass the point of no return', 'treachery in the shadows', 'we walk alone towards the promised land', '2x', 'passing the point of no']\n"
     ]
    }
   ],
   "source": [
    "print(gen_lyrics)"
   ]
  },
  {
   "cell_type": "code",
   "execution_count": 21,
   "metadata": {},
   "outputs": [
    {
     "name": "stdout",
     "output_type": "stream",
     "text": [
      "[10, 7, 8, 7, 12, 10, 8, 10, 8, 4, 6, 7, 6, 7, 9, 5, 10, 7, 6, 8, 6, 8, 8, 8, 2, 6, 7, 6, 6, 7, 5, 12, 14, 12, 12, 6, 8, 6, 6, 8, 5, 10]\n"
     ]
    }
   ],
   "source": [
    "new = fit_lyrics(gen_lyrics,target_lyrics)"
   ]
  },
  {
   "cell_type": "code",
   "execution_count": 17,
   "metadata": {},
   "outputs": [
    {
     "name": "stdout",
     "output_type": "stream",
     "text": [
      "['i remember feeling scared at the word', \"feel itin ' you so lonely\", \"i really just don ' t ... know how\", 'i can communicate with', 'my mind mind you , i only communicate with', '\" and if you tell me about that , i can', '\" let me just tell you \\' bout your life', \"' you ' d all better get down on your knees\", '\" and now , i think more about you', 'refer to your', 'recreate your own youth', 'and the memories will burn', 'play tennis in your dreams', 'of a lifetime long ago', \"remember you can't erase them\", 'the past is living', 'fate table has been removed', \"you just can ' t erase guilt\", \"you can't erase the past\", \"you can't prevent the memories\", \"you can't erase the past,\", 'you call it your very own', \"but that ' s not another\", 'feeling much too tired to go', 'desperate', 'passing the point of no', 'robbing telephone ringside', 'saving my soul \" by', 'paper cats all over', 'we pass the point of \" no', 'treachery in the', 'we walk alone , towards the promised great land', 'part 2x', 'passing the point of word no']\n"
     ]
    }
   ],
   "source": [
    "print(new)"
   ]
  },
  {
   "cell_type": "code",
   "execution_count": 22,
   "metadata": {},
   "outputs": [],
   "source": [
    "text = \"\\n\".join(new)"
   ]
  },
  {
   "cell_type": "code",
   "execution_count": 23,
   "metadata": {},
   "outputs": [
    {
     "name": "stdout",
     "output_type": "stream",
     "text": [
      "i remember feeling scared at the word\n",
      "feel like itin ' so lonely\n",
      "\" i don ' ' t t know and just how\n",
      "i can communicate with\n",
      "' mind you , i only communicate\n",
      "if you can tell ' me that , i suppose can\n",
      "let me tell you ' ' bout your love life\n",
      "\" you ' d better get down on your own knees\n",
      "\" and think no further about you\n",
      "refer to your\n",
      "to recreate your youth\n",
      "and the memories will burn\n",
      "here and in all your dreams\n",
      "of course a lifetime ago\n",
      "remember you can't erase them\n",
      "the past is living\n",
      "fate has not been removed\n",
      "you can't erase guilt\n",
      "you can't erase the past\n",
      "you can't prevent the memories\n",
      "you can't erase the past,\n",
      "' you call it your own\n",
      "\" but that ' s another good day ,\n",
      "feeling much too tired to go\n",
      "desperate\n",
      "passing the point of no\n",
      "robbing telephone ringside\n",
      "saving my soul ! by\n",
      "paper cats all over\n",
      "' we pass the point of\n",
      "treachery in the\n",
      "we walk alone towards the promised land\n",
      "- 2x\n",
      "passing the point of the no\n"
     ]
    }
   ],
   "source": [
    "print(text)"
   ]
  },
  {
   "cell_type": "code",
   "execution_count": 20,
   "metadata": {},
   "outputs": [
    {
     "name": "stdout",
     "output_type": "stream",
     "text": [
      "i remember feeling scared at the word 'nerd'\n",
      "feelin' so lonely\n",
      "i don't know how\n",
      "i can communicate with my mind\n",
      "mind you, i only communicate with my spirit\n",
      "if you tell me that i can\n",
      "let me tell you 'bout your life\n",
      "you'd better get down on your knees\n",
      "and think about you\n",
      "refer to your past\n",
      "recreate your youth\n",
      "and the memories will burn\n",
      "in your dreams\n",
      "of a lifetime ago\n",
      "remember you can't erase them\n",
      "the past is living in your mind\n",
      "fate has been removed\n",
      "you can't erase guilt\n",
      "you can't erase the past\n",
      "you can't prevent the memories from re-collected\n",
      "you can't erase the past, present, and future\n",
      "you call it your own\n",
      "but that's another day, another pain\n",
      "feeling much too tired to go back\n",
      "desperate enough to Escape 2x\n",
      "passing the point of no return\n",
      "robbing telephone ringside\n",
      "saving my soul by taking my money\n",
      "paper cats all over the ground\n",
      "we pass the point of no return\n",
      "treachery in the shadows\n",
      "we walk alone towards the promised land\n",
      "2x\n",
      "passing the point of no\n"
     ]
    }
   ],
   "source": [
    "original = \"\\n\".join(gen_lyrics)\n",
    "print(original)"
   ]
  },
  {
   "cell_type": "code",
   "execution_count": 27,
   "metadata": {},
   "outputs": [],
   "source": [
    "from big_phoney import BigPhoney\n",
    "import lyricsgenius as genius\n",
    "import random\n",
    "import nlpaug.augmenter.word as naw\n",
    "import re"
   ]
  },
  {
   "cell_type": "code",
   "execution_count": 62,
   "metadata": {},
   "outputs": [],
   "source": [
    "def fit_lyrics(gen_lyrics, target_lyrics):\n",
    "    aug = naw.ContextualWordEmbsAug(\n",
    "    model_path='bert-base-uncased', action=\"insert\")\n",
    "    phoney = BigPhoney()\n",
    "    \n",
    "    def count_syls(text):\n",
    "    \n",
    "        schema = []\n",
    "    \n",
    "        for line in text:\n",
    "            syls = phoney.count_syllables(line)\n",
    "            schema.append(syls)\n",
    "            #print(syls,line)\n",
    "        \n",
    "        return schema\n",
    "    def decontracted(phrase):\n",
    "        # specific\n",
    "        phrase = re.sub(r\"won\\'t\", \"will not\", phrase)\n",
    "        phrase = re.sub(r\"can\\'t\", \"can not\", phrase)\n",
    "\n",
    "        # general\n",
    "        phrase = re.sub(r\"n\\'t\", \" not\", phrase)\n",
    "        phrase = re.sub(r\"\\'re\", \" are\", phrase)\n",
    "        phrase = re.sub(r\"\\'s\", \" is\", phrase)\n",
    "        phrase = re.sub(r\"\\'d\", \" would\", phrase)\n",
    "        phrase = re.sub(r\"\\'ll\", \" will\", phrase)\n",
    "        phrase = re.sub(r\"\\'t\", \" not\", phrase)\n",
    "        phrase = re.sub(r\"\\'ve\", \" have\", phrase)\n",
    "        phrase = re.sub(r\"\\'m\", \" am\", phrase)\n",
    "        return phrase\n",
    "    \n",
    "    gen_schema = count_syls(gen_lyrics)\n",
    "    target_schema = count_syls(target_lyrics)\n",
    "    print(target_schema)\n",
    "    #make generated lyrics same length as target lyrics\n",
    "    target_len = len(target_schema)\n",
    "    del gen_schema[target_len:]\n",
    "    del gen_lyrics[target_len:]\n",
    "#    print(gen_schema)\n",
    "    #print(target_schema)\n",
    "    new_lyrics = []\n",
    "#    loop = 1\n",
    "    for num, line in enumerate(gen_lyrics):\n",
    "        \n",
    "        if (gen_schema[num] == target_schema[num]): \n",
    "            new_lyrics.append(line)\n",
    "        elif (gen_schema[num] != target_schema[num]):\n",
    "            syls = gen_schema[num]\n",
    "            track = 0\n",
    "            while syls != target_schema[num]:\n",
    "                #while syls don't match the target\n",
    "                #make syls the next syls \n",
    "                #if we're at the end then stop \n",
    "                if track == len(gen_schema)-1:\n",
    "                    end = True\n",
    "                    break\n",
    "                else:\n",
    "                    track = track + 1\n",
    "                    syls = gen_schema[track]\n",
    "                    line = gen_lyrics[track]\n",
    "                    end = False\n",
    "            if end == False:\n",
    "                new_lyrics.append(line)\n",
    "            #If we can't find a line that's the right size\n",
    "            if end:\n",
    "                line = decontracted(line)\n",
    "                print(\"No matching line\")\n",
    "                print(line)\n",
    "                while syls < target_schema[num]:\n",
    "                    print(\"not enough syls\")\n",
    "                    original_line = line\n",
    "                    line = aug.augment(line)\n",
    "                    print(line)\n",
    "                    syls = phoney.count_syllables(line)\n",
    "                #In case we overshoot (add too many syllables)\n",
    "                    if syls > target_schema[num]:\n",
    "                        #print(\"Oops we overshot\")\n",
    "                        line = original_line\n",
    "                        syls = phoney.count_syllables(line)\n",
    "                new_line = line\n",
    "                print(\"the same line:\")\n",
    "                print(line)\n",
    "                syls = gen_schema[num]\n",
    "                words = line.split(\" \")\n",
    "                while syls > target_schema[num]:\n",
    "                    print(\"too many syls\")\n",
    "                    del words[-1]\n",
    "                    new_line = ' '.join(words)\n",
    "                    syls = phoney.count_syllables(new_line)\n",
    "                    #In case too many syllables are deleted\n",
    "                    if syls < target_schema[num]:\n",
    "                        #print(\"Oops, deleted too many\")\n",
    "                        new_line = aug.augment(new_line)\n",
    "                        syls = phoney.count_syllables(new_line)\n",
    "                new_lyrics.append(new_line)\n",
    "    return new_lyrics"
   ]
  },
  {
   "cell_type": "code",
   "execution_count": 71,
   "metadata": {},
   "outputs": [
    {
     "name": "stdout",
     "output_type": "stream",
     "text": [
      "[10, 7, 8, 7, 12, 10, 8, 10, 8, 4, 6, 7, 6, 7, 9, 5, 10, 7, 6, 8, 6, 8, 8, 8, 2, 6, 7, 6, 6, 7, 5, 12, 14, 12, 12, 6, 8, 6, 6, 8, 5, 10]\n",
      "No matching line\n",
      "will not you come into my shed to play\n",
      "the same line:\n",
      "will not you come into my shed to play\n",
      "too many syls\n",
      "too many syls\n",
      "too many syls\n",
      "too many syls\n",
      "too many syls\n",
      "No matching line\n",
      "will not you come into my shed to play\n",
      "the same line:\n",
      "will not you come into my shed to play\n",
      "too many syls\n",
      "too many syls\n",
      "too many syls\n",
      "too many syls\n",
      "too many syls\n",
      "too many syls\n",
      "too many syls\n"
     ]
    }
   ],
   "source": [
    "new = fit_lyrics(gen_lyrics, target_lyrics)"
   ]
  },
  {
   "cell_type": "code",
   "execution_count": 72,
   "metadata": {},
   "outputs": [
    {
     "name": "stdout",
     "output_type": "stream",
     "text": [
      "as we torture them into giving in\n",
      "atheroids, divided souls\n",
      "us our number is your score\n",
      "atheroids, divided souls\n",
      "survival of the fittest, no reason for war\n",
      "as we torture them into giving in\n",
      "us our number is your score\n",
      "as we torture them into giving in\n",
      "us our number is your score\n",
      "will not you come\n",
      "no hope for the dying\n",
      "atheroids, divided souls\n",
      "thy kingdom come again\n",
      "atheroids, divided souls\n",
      "burned at the stake for all who love them\n",
      "eyes of the madman\n",
      "as we torture them into giving in\n",
      "atheroids, divided souls\n",
      "they are filled with hatred\n",
      "us our number is your score\n",
      "afflicting us with fear\n",
      "us our number is your score\n",
      "us our number is your score\n",
      "us our number is your score\n",
      "will not\n",
      "they are filled with hatred\n",
      "atheroids, divided souls\n",
      "they are filled with hatred\n",
      "they are filled with hatred\n",
      "atheroids, divided souls\n",
      "eyes of the madman\n"
     ]
    }
   ],
   "source": [
    "lyrics = \"\\n\".join(new)\n",
    "print(lyrics)"
   ]
  },
  {
   "cell_type": "code",
   "execution_count": 65,
   "metadata": {},
   "outputs": [
    {
     "name": "stdout",
     "output_type": "stream",
     "text": [
      "[10, 7, 8, 7, 12, 10, 8, 10, 8, 4, 6, 7, 6, 7, 9, 5, 10, 7, 6, 8, 6, 8, 8, 8, 2, 6, 7, 6, 6, 7, 5, 12, 14, 12, 12, 6, 8, 6, 6, 8, 5, 10]\n"
     ]
    }
   ],
   "source": [
    "print(gen_schema)"
   ]
  },
  {
   "cell_type": "code",
   "execution_count": 55,
   "metadata": {},
   "outputs": [],
   "source": [
    "import re\n",
    "\n",
    "def decontracted(phrase):\n",
    "    # specific\n",
    "    phrase = re.sub(r\"won\\'t\", \"will not\", phrase)\n",
    "    phrase = re.sub(r\"can\\'t\", \"can not\", phrase)\n",
    "\n",
    "    # general\n",
    "    phrase = re.sub(r\"n\\'t\", \" not\", phrase)\n",
    "    phrase = re.sub(r\"\\'re\", \" are\", phrase)\n",
    "    phrase = re.sub(r\"\\'s\", \" is\", phrase)\n",
    "    phrase = re.sub(r\"\\'d\", \" would\", phrase)\n",
    "    phrase = re.sub(r\"\\'ll\", \" will\", phrase)\n",
    "    phrase = re.sub(r\"\\'t\", \" not\", phrase)\n",
    "    phrase = re.sub(r\"\\'ve\", \" have\", phrase)\n",
    "    phrase = re.sub(r\"\\'m\", \" am\", phrase)\n",
    "    return phrase"
   ]
  },
  {
   "cell_type": "code",
   "execution_count": 58,
   "metadata": {},
   "outputs": [
    {
     "name": "stdout",
     "output_type": "stream",
     "text": [
      "I have a question. How would you like to answer it is not?\n"
     ]
    }
   ],
   "source": [
    "test = \"I've a question. How'd you like to answer it isn't?\"\n",
    "print(decontracted(test))"
   ]
  },
  {
   "cell_type": "code",
   "execution_count": 49,
   "metadata": {},
   "outputs": [
    {
     "name": "stdout",
     "output_type": "stream",
     "text": [
      "The snow glows white on the mountain tonight\n",
      "Not a footprint to be seen\n",
      "A kingdom of isolation\n",
      "And it looks like I'm the queen\n",
      "The wind is howling like this swirling storm inside\n",
      "Couldn't keep it in, Heaven knows I tried\n",
      "Don't let them in, don't let them see\n",
      "Be the good girl you always have to be\n",
      "Conceal, don't feel, don't let them know\n",
      "Well, now they know\n",
      "Let it go, let it go\n",
      "Can't hold it back anymore\n",
      "Let it go, let it go\n",
      "Turn away and slam the door\n",
      "I don't care what they're going to say\n",
      "Let the storm rage on!\n",
      "The cold never bothered me anyway\n",
      "It's funny how some distance\n",
      "Makes everything seem small\n",
      "And the fears that once controlled me\n",
      "Can't get to me at all\n",
      "It's time to see what I can do\n",
      "To test the limits and break through\n",
      "No right, no wrong, no rules for me\n",
      "I'm free\n",
      "Let it go, let it go\n",
      "I'm one with the wind and sky\n",
      "Let it go, let it go\n",
      "You'll never see me cry\n",
      "Here I stand, and here I'll stay\n",
      "Let the storm rage on\n",
      "My power flurries through the air into the ground\n",
      "My soul is spiraling in frozen fractals all around\n",
      "And one thought crystallizes like an icy blast:\n",
      "I'm never going back, the past is in the past!\n",
      "Let it go, let it go\n",
      "And I'll rise like the break of dawn\n",
      "Let it go, let it go\n",
      "That perfect girl is gone\n",
      "Here I stand in the light of day\n",
      "Let the storm rage on!\n",
      "The cold never bothered me anyway\n"
     ]
    }
   ],
   "source": [
    "target = \"\\n\".join(target_lyrics)\n",
    "print(target)"
   ]
  },
  {
   "cell_type": "code",
   "execution_count": 61,
   "metadata": {},
   "outputs": [
    {
     "name": "stdout",
     "output_type": "stream",
     "text": [
      "['all in your face, all in your mind', 'weigh heavy down on you', 'feel the tension', 'on your back, on your back', 'on your back, on your back', 'oh, babe', 'weigh heavy down on you', \"it's ten o'clock and i am alone\", \"i don't have a word with my husband\", \"it's getting to me so cold\", \"i can't hear what they're saying\", \"and now it's getting to me\", \"it's getting to me\", \"livin' lovin' i'm on the outside\", 'but on the inside', \"it's turning to bloody sweat\", \"oh, how the bloody world workin' today?\", 'not with the letter s—- off', \"i'm turning into a bloody satan bastard\", \"i'm turning into a bloody satan bastard\", \"i'm turning into a bloody satan bastard\", \"and soon i'll be live a lie\", 'and in the end i will be', \"livin' lovin' i'm on the outside\", 'but on the inside', \"it's turning to bloody bloody sweat\", \"oh, how the bloody world workin' today?\", 'not with the letter s—- off', \"i'm turning into a bloody satan bastard\", \"i'm turning into\"]\n"
     ]
    }
   ],
   "source": [
    "print(gen_lyrics)"
   ]
  },
  {
   "cell_type": "code",
   "execution_count": 66,
   "metadata": {},
   "outputs": [
    {
     "name": "stdout",
     "output_type": "stream",
     "text": [
      "all in your face, all in your mind\n",
      "weigh heavy down on you\n",
      "feel the tension\n",
      "on your back, on your back\n",
      "on your back, on your back\n",
      "oh, babe\n",
      "weigh heavy down on you\n",
      "it's ten o'clock and i am alone\n",
      "i don't have a word with my husband\n",
      "it's getting to me so cold\n",
      "i can't hear what they're saying\n",
      "and now it's getting to me\n",
      "it's getting to me\n",
      "livin' lovin' i'm on the outside\n",
      "but on the inside\n",
      "it's turning to bloody sweat\n",
      "oh, how the bloody world workin' today?\n",
      "not with the letter s—- off\n",
      "i'm turning into a bloody satan bastard\n",
      "i'm turning into a bloody satan bastard\n",
      "i'm turning into a bloody satan bastard\n",
      "and soon i'll be live a lie\n",
      "and in the end i will be\n",
      "livin' lovin' i'm on the outside\n",
      "but on the inside\n",
      "it's turning to bloody bloody sweat\n",
      "oh, how the bloody world workin' today?\n",
      "not with the letter s—- off\n",
      "i'm turning into a bloody satan bastard\n",
      "i'm turning into\n"
     ]
    }
   ],
   "source": [
    "original = \"\\n\".join(gen_lyrics)\n",
    "print(original)"
   ]
  },
  {
   "cell_type": "code",
   "execution_count": 76,
   "metadata": {},
   "outputs": [],
   "source": [
    "def factorial(N:int) -> int:\n",
    "    if N > 1:\n",
    "        return (N*factorial(N-1))\n",
    "    else:\n",
    "        return 1"
   ]
  },
  {
   "cell_type": "code",
   "execution_count": 77,
   "metadata": {},
   "outputs": [
    {
     "data": {
      "text/plain": [
       "120"
      ]
     },
     "execution_count": 77,
     "metadata": {},
     "output_type": "execute_result"
    }
   ],
   "source": [
    "factorial(5)"
   ]
  },
  {
   "cell_type": "code",
   "execution_count": 78,
   "metadata": {},
   "outputs": [
    {
     "data": {
      "text/plain": [
       "2"
      ]
     },
     "execution_count": 78,
     "metadata": {},
     "output_type": "execute_result"
    }
   ],
   "source": [
    "factorial(2)"
   ]
  },
  {
   "cell_type": "code",
   "execution_count": 81,
   "metadata": {},
   "outputs": [
    {
     "data": {
      "text/plain": [
       "24"
      ]
     },
     "execution_count": 81,
     "metadata": {},
     "output_type": "execute_result"
    }
   ],
   "source": [
    "factorial(4)"
   ]
  },
  {
   "cell_type": "code",
   "execution_count": null,
   "metadata": {},
   "outputs": [],
   "source": [
    "def fibonacci(N:int) -> int:\n",
    "    if n==1 or n==0:\n",
    "        return 1\n",
    "    else:\n",
    "        return fibonacci(n-1)+fibonacci(n-2)\n",
    "\n"
   ]
  },
  {
   "cell_type": "code",
   "execution_count": null,
   "metadata": {},
   "outputs": [],
   "source": [
    "#Memoization:\n"
   ]
  }
 ],
 "metadata": {
  "kernelspec": {
   "display_name": "Python 3",
   "language": "python",
   "name": "python3"
  },
  "language_info": {
   "codemirror_mode": {
    "name": "ipython",
    "version": 3
   },
   "file_extension": ".py",
   "mimetype": "text/x-python",
   "name": "python",
   "nbconvert_exporter": "python",
   "pygments_lexer": "ipython3",
   "version": "3.6.10"
  },
  "toc": {
   "base_numbering": 1,
   "nav_menu": {},
   "number_sections": true,
   "sideBar": true,
   "skip_h1_title": false,
   "title_cell": "Table of Contents",
   "title_sidebar": "Contents",
   "toc_cell": false,
   "toc_position": {},
   "toc_section_display": true,
   "toc_window_display": false
  }
 },
 "nbformat": 4,
 "nbformat_minor": 4
}
