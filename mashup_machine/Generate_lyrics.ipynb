{
 "cells": [
  {
   "cell_type": "markdown",
   "metadata": {},
   "source": [
    "## Import packages"
   ]
  },
  {
   "cell_type": "code",
   "execution_count": 3,
   "metadata": {},
   "outputs": [],
   "source": [
    "from big_phoney import BigPhoney\n",
    "import lyricsgenius as genius\n",
    "import random\n",
    "import nlpaug.augmenter.word as naw\n",
    "import re\n",
    "import numpy as np\n",
    "\n",
    "#----------------For future live text generation-----------------\n",
    "#import gpt_2_simple as gpt2\n",
    "\n",
    "# model_name = \"124M\"\n",
    "# model is saved into current directory under /models/124M/\n",
    "# gpt2.download_gpt2(model_name=model_name) #need to run only once. comment out once done.\n",
    "\n",
    "# Load models\n",
    "#sess = gpt2.start_tf_sess()\n",
    "#gpt2.load_gpt2(sess, run_name='run1')\n",
    "\n",
    "#----------------------------------------------------------------"
   ]
  },
  {
   "cell_type": "markdown",
   "metadata": {},
   "source": [
    "## Functions "
   ]
  },
  {
   "cell_type": "code",
   "execution_count": 6,
   "metadata": {},
   "outputs": [],
   "source": [
    "def get_target_lyrics(artist, title, api_key):\n",
    "    \n",
    "    api = genius.Genius(api_key)\n",
    "    api.remove_section_headers = True # Removes section headers like \"Verse\" and \"Intro\"\n",
    "    \n",
    "    #get song lyrics\n",
    "    song = api.search_song(title, artist)\n",
    "    \n",
    "    #clean up the target lyrics\n",
    "    target = song.lyrics\n",
    "    target = target.replace(\"\\u2005\",\" \")\n",
    "    target = target.replace(\"\\\\\",\" \")\n",
    "    target = target.replace(\"\\\\n\",\" \")\n",
    "    target = target.replace(\"(\",\" \")\n",
    "    target = target.replace(\")\",\" \")\n",
    "    target = target.replace(\"\\n\\n\",\"\\n\")\n",
    "    target = target.replace(\"\\n\\n\\n\",\"\\n\")\n",
    "    target = target.replace(\"2x\",\"\")\n",
    "    #create list of lines\n",
    "    target_lyrics = target.split(\"\\n\")\n",
    "    print(\"Target lyrics:\")\n",
    "    print(target_lyrics)\n",
    "    return target_lyrics"
   ]
  },
  {
   "cell_type": "code",
   "execution_count": 7,
   "metadata": {},
   "outputs": [
    {
     "name": "stdout",
     "output_type": "stream",
     "text": [
      "Searching for \"Let it go\" by Idina Menzel...\n",
      "Done.\n",
      "Target lyrics:\n",
      "['The snow glows white on the mountain tonight', 'Not a footprint to be seen', 'A kingdom of isolation', \"And it looks like I'm the queen\", 'The wind is howling like this swirling storm inside', \"Couldn't keep it in, heaven knows I've tried\", \"Don't let them in, don't let them see\", 'Be the good girl you always have to be', \"Conceal, don't feel, don't let them know\", 'Well, now they know', 'Let it go, let it go', \"Can't hold it back anymore\", 'Let it go, let it go', 'Turn away and slam the door', \"I don't care what they're going to say\", 'Let the storm rage on', 'The cold never bothered me anyway', 'Let it go, let it go', \"Can't hold it back anymore\", 'Let it go, let it go', 'Turn away and slam the door', 'Let it go  go, go, go go, go go, go go, go, go, go go ', 'Let it go', 'Let it go', 'Let it go', \"It's funny how some distance makes everything seem small\", \"And the fears that once controlled me can't get to me at all\", \"It's time to see what I can do\", 'To test the limits and break through', 'No right, no wrong, no rules for me', \"I'm free\", 'Let it go, let it go', 'I am one with the wind and sky', 'Let it go, let it go', \"You'll never see me cry\", 'Here I stand and here I stay', 'Let the storm rage on', 'My power flurries through the air into the ground', 'My soul is spiraling in frozen fractals all around', 'And one thought crystallizes like an icy blast', \"I'm never going back, the past is in the past\", 'Let it go', 'The cold never bothered me anyway', 'Let it go, let it go', \"And I'll rise like the break of dawn\", 'Let it go, let it go', 'That perfect girl is gone', 'Here I stand in the light of day', 'Let the storm rage on']\n"
     ]
    },
    {
     "data": {
      "text/plain": [
       "['The snow glows white on the mountain tonight',\n",
       " 'Not a footprint to be seen',\n",
       " 'A kingdom of isolation',\n",
       " \"And it looks like I'm the queen\",\n",
       " 'The wind is howling like this swirling storm inside',\n",
       " \"Couldn't keep it in, heaven knows I've tried\",\n",
       " \"Don't let them in, don't let them see\",\n",
       " 'Be the good girl you always have to be',\n",
       " \"Conceal, don't feel, don't let them know\",\n",
       " 'Well, now they know',\n",
       " 'Let it go, let it go',\n",
       " \"Can't hold it back anymore\",\n",
       " 'Let it go, let it go',\n",
       " 'Turn away and slam the door',\n",
       " \"I don't care what they're going to say\",\n",
       " 'Let the storm rage on',\n",
       " 'The cold never bothered me anyway',\n",
       " 'Let it go, let it go',\n",
       " \"Can't hold it back anymore\",\n",
       " 'Let it go, let it go',\n",
       " 'Turn away and slam the door',\n",
       " 'Let it go  go, go, go go, go go, go go, go, go, go go ',\n",
       " 'Let it go',\n",
       " 'Let it go',\n",
       " 'Let it go',\n",
       " \"It's funny how some distance makes everything seem small\",\n",
       " \"And the fears that once controlled me can't get to me at all\",\n",
       " \"It's time to see what I can do\",\n",
       " 'To test the limits and break through',\n",
       " 'No right, no wrong, no rules for me',\n",
       " \"I'm free\",\n",
       " 'Let it go, let it go',\n",
       " 'I am one with the wind and sky',\n",
       " 'Let it go, let it go',\n",
       " \"You'll never see me cry\",\n",
       " 'Here I stand and here I stay',\n",
       " 'Let the storm rage on',\n",
       " 'My power flurries through the air into the ground',\n",
       " 'My soul is spiraling in frozen fractals all around',\n",
       " 'And one thought crystallizes like an icy blast',\n",
       " \"I'm never going back, the past is in the past\",\n",
       " 'Let it go',\n",
       " 'The cold never bothered me anyway',\n",
       " 'Let it go, let it go',\n",
       " \"And I'll rise like the break of dawn\",\n",
       " 'Let it go, let it go',\n",
       " 'That perfect girl is gone',\n",
       " 'Here I stand in the light of day',\n",
       " 'Let the storm rage on']"
      ]
     },
     "execution_count": 7,
     "metadata": {},
     "output_type": "execute_result"
    }
   ],
   "source": [
    "get_target_lyrics('Idina Menzel','Let it go')"
   ]
  },
  {
   "cell_type": "code",
   "execution_count": 61,
   "metadata": {},
   "outputs": [],
   "source": [
    "#----------------For future live text generation-----------------\n",
    "#def generate_lyrics(): \n",
    "#    \n",
    "#    gen_lyrics = gpt2.generate(sess, \n",
    "#                     length=250,\n",
    "#                     temperature=0.9,\n",
    "#                     include_prefix=False,\n",
    "#                     #prefix=\"Deep in the night\",\n",
    "#                     nsamples=1,\n",
    "#                     batch_size=1,\n",
    "#                     return_as_list=True)[0]\n",
    "#    \n",
    "#    gen_lyrics = gen_lyrics.split(\"\\n\")\n",
    "#    \n",
    "#    return gen_lyrics\n",
    "#----------------------------------------------------------------"
   ]
  },
  {
   "cell_type": "code",
   "execution_count": 127,
   "metadata": {},
   "outputs": [],
   "source": [
    "def lyrics_to_list(file_name):\n",
    "    with open(file_name, 'r') as file:\n",
    "        data = file.read().split(\"====================\")\n",
    "        random_song = random.choice(data)\n",
    "        target = random_song\n",
    "        \n",
    "        # clean generatedd lyrics\n",
    "        target = target.replace(\"\\u2005\",\" \")\n",
    "        target = target.replace(\"\\\\\",\" \")\n",
    "        target = target.replace(\"\\\\n\",\" \")\n",
    "        target = target.replace(\"(\",\" \")\n",
    "        target = target.replace(\")\",\" \")\n",
    "        target = target.replace(\"\\n\\n\",\"\\n\")\n",
    "        target = target.replace(\"\\n\\n\\n\",\"\\n\")\n",
    "        target = target.replace(\"2x\",\"\")\n",
    "        gen_lyrics = target.split(\"\\n\")\n",
    "        gen_lyrics = gen_lyrics[1:-1]\n",
    "        print(\"Gen lyrics:\")\n",
    "        print(gen_lyrics)\n",
    "    return gen_lyrics"
   ]
  },
  {
   "cell_type": "markdown",
   "metadata": {},
   "source": [
    "#### The magical lyrics fitting function"
   ]
  },
  {
   "cell_type": "markdown",
   "metadata": {},
   "source": [
    "This function takes lyrics generated by a fine-tuned GPT-2 model, and fits them to the syllabic structure of target lyrics (matches the number of syllables per line). "
   ]
  },
  {
   "cell_type": "code",
   "execution_count": 129,
   "metadata": {},
   "outputs": [],
   "source": [
    "def fit_lyrics(gen_lyrics, target_lyrics):\n",
    "    \n",
    "    print(gen_lyrics)\n",
    "    \n",
    "    aug = naw.ContextualWordEmbsAug(model_path='bert-base-uncased', action=\"insert\")\n",
    "    print('aug')\n",
    "    \n",
    "    phoney = BigPhoney()\n",
    "    print('initialized phoney')\n",
    "    \n",
    "    # Counts the number of syllables in each line\n",
    "    def count_syls(text):\n",
    "    \n",
    "        schema = []\n",
    "    \n",
    "        for line in text:\n",
    "            syls = phoney.count_syllables(line)\n",
    "            schema.append(syls)\n",
    "            #print(syls,line)\n",
    "        \n",
    "        return schema\n",
    "    \n",
    "    # Remove characters and contractions from the line. This will make it easier to\n",
    "    # augment lines that need augmentation. \n",
    "    def decontracted(phrase):\n",
    "        # specific\n",
    "        phrase = re.sub(r\"won\\'t\", \"will not\", phrase)\n",
    "        phrase = re.sub(r\"can\\'t\", \"can not\", phrase)\n",
    "\n",
    "        # general\n",
    "        phrase = re.sub(r\"n\\'t\", \" not\", phrase)\n",
    "        phrase = re.sub(r\"\\'re\", \" are\", phrase)\n",
    "        phrase = re.sub(r\"\\'s\", \" is\", phrase)\n",
    "        phrase = re.sub(r\"\\'d\", \" would\", phrase)\n",
    "        phrase = re.sub(r\"\\'ll\", \" will\", phrase)\n",
    "        phrase = re.sub(r\"\\'t\", \" not\", phrase)\n",
    "        phrase = re.sub(r\"\\'ve\", \" have\", phrase)\n",
    "        phrase = re.sub(r\"\\'m\", \" am\", phrase)\n",
    "        phrase = re.sub('[!@#$?]', '', phrase)\n",
    "        return phrase\n",
    "    \n",
    "    # Count the number of syllables in the generated and target texts.\n",
    "    gen_schema = count_syls(gen_lyrics)\n",
    "    target_schema = count_syls(target_lyrics)\n",
    "#    print(target_schema)\n",
    "\n",
    "    # make generated lyrics same length as target lyrics\n",
    "    target_len = len(target_schema)\n",
    "    del gen_schema[target_len:]\n",
    "    del gen_lyrics[target_len:]\n",
    "    \n",
    "    # initialize array for the new fitted lyrics\n",
    "    new_lyrics = []\n",
    "    \n",
    "    # loop through each line and either find existing line to place into the current position, \n",
    "    # or augment the current line. \n",
    "    \n",
    "    # keep track of repeated lines\n",
    "    repeats = np.array([])\n",
    "    for num, line in enumerate(gen_lyrics):\n",
    "        # if the line is already the right length, add it to the new lyrics. \n",
    "        if (gen_schema[num] == target_schema[num]): \n",
    "            new_lyrics.append(line)\n",
    "            \n",
    "        # if the line is not the right length, keep going until we find one that is\n",
    "        elif (gen_schema[num] != target_schema[num]):\n",
    "            # keep track of the number of syllables in the current line\n",
    "            syls = gen_schema[num]\n",
    "            temp_lyrics = gen_lyrics\n",
    "            # keep track of which line we're on \n",
    "            track = 0\n",
    "            # while the line is not the target length,\n",
    "            while syls != target_schema[num]:\n",
    "                \n",
    "                if track == len(temp_lyrics)-1:\n",
    "                    end = True\n",
    "                    break\n",
    "                else:\n",
    "                    # go to the next line\n",
    "                    track = track + 1\n",
    "                    # check the num of syls\n",
    "                    syls = gen_schema[track]\n",
    "                    line = temp_lyrics[track]\n",
    "                    end = False\n",
    "                    \n",
    "            # if we found a line that's the right length before we reached the end,\n",
    "            # add the line to the new lyrics\n",
    "            if end == False:\n",
    "                new_lyrics.append(line)\n",
    "                repeats = np.append(repeats, track)\n",
    "                if np.count_nonzero(repeats == track) >= 3:\n",
    "                    print(\"repeats greater than 3\")\n",
    "                    print(line)\n",
    "                    temp_lyrics.pop(track)\n",
    "                #temp_lyrics.pop(track)\n",
    "                \n",
    "            #If we didn't find a line that's the right length,\n",
    "            if end:\n",
    "                line = decontracted(line)\n",
    "                print(\"No matching line\")\n",
    "                #print(line)\n",
    "                while syls < target_schema[num]:\n",
    "#                    print(\"not enough syls\")\n",
    "                    original_line = line\n",
    "                    line = aug.augment(line)\n",
    "                    line = re.sub(r'[^\\w\\s]','',line)\n",
    "                    print(line)\n",
    "                    syls = phoney.count_syllables(line)\n",
    "                #In case we overshoot (add too many syllables)\n",
    "                    if syls > target_schema[num]:\n",
    "                        print(\"Oops we overshot\")\n",
    "                        line = original_line\n",
    "                        syls = phoney.count_syllables(line)\n",
    "                new_line = line\n",
    "#                print(\"the same line:\")\n",
    "                print(line)\n",
    "                syls = gen_schema[num]\n",
    "                words = line.split(\" \")\n",
    "                while syls > target_schema[num]:\n",
    "                    print(\"too many syls\")\n",
    "                    del words[-1]\n",
    "                    new_line = ' '.join(words)\n",
    "                    syls = phoney.count_syllables(new_line)\n",
    "                    #In case too many syllables are deleted\n",
    "                    if syls < target_schema[num]:\n",
    "                        #print(\"Oops, deleted too many\")\n",
    "                        new_line = aug.augment(new_line)\n",
    "                        syls = phoney.count_syllables(new_line)\n",
    "                new_lyrics.append(new_line)\n",
    "                \n",
    "    return new_lyrics\n"
   ]
  },
  {
   "cell_type": "markdown",
   "metadata": {},
   "source": [
    "## Time to test everything"
   ]
  },
  {
   "cell_type": "code",
   "execution_count": 68,
   "metadata": {},
   "outputs": [],
   "source": [
    "artist = \"Idina Menzel\"\n",
    "title = \"Let it go\""
   ]
  },
  {
   "cell_type": "code",
   "execution_count": 130,
   "metadata": {},
   "outputs": [
    {
     "name": "stdout",
     "output_type": "stream",
     "text": [
      "Searching for \"Idina Menzel\" by Let it go...\n",
      "Done.\n",
      "Target lyrics:\n",
      "['The snow glows white on the mountain tonight', 'Not a footprint to be seen', 'A kingdom of isolation', \"And it looks like I'm the queen\", 'The wind is howling like this swirling storm inside', \"Couldn't keep it in, Heaven knows I tried\", \"Don't let them in, don't let them see\", 'Be the good girl you always have to be', \"Conceal, don't feel, don't let them know\", 'Well, now they know', 'Let it go, let it go', \"Can't hold it back anymore\", 'Let it go, let it go', 'Turn away and slam the door', \"I don't care what they're going to say\", 'Let the storm rage on!', 'The cold never bothered me anyway', \"It's funny how some distance\", 'Makes everything seem small', 'And the fears that once controlled me', \"Can't get to me at all\", \"It's time to see what I can do\", 'To test the limits and break through', 'No right, no wrong, no rules for me', \"I'm free\", 'Let it go, let it go', \"I'm one with the wind and sky\", 'Let it go, let it go', \"You'll never see me cry\", \"Here I stand, and here I'll stay\", 'Let the storm rage on', 'My power flurries through the air into the ground', 'My soul is spiraling in frozen fractals all around', 'And one thought crystallizes like an icy blast:', \"I'm never going back, the past is in the past!\", 'Let it go, let it go', \"And I'll rise like the break of dawn\", 'Let it go, let it go', 'That perfect girl is gone', 'Here I stand in the light of day', 'Let the storm rage on!', 'The cold never bothered me anyway']\n",
      "Gen lyrics:\n",
      "['die by the sword', 'satan watches all of us', 'smiles as some do his bidding', 'try to escape the grasp of my hand', 'and your life will no longer exist', 'hear our cry, save us from', 'the hell in which we live', 'we turn our heads toward the sky', 'and listen for the steel', 'die by the sword', 'die by the sword', 'watch as flowers decay', 'on the cryptic life that died', 'the wisdom of the wizards', 'is only a nurtured lie', 'black knights of hells domain', 'walk upon the dead', 'satanas sits upon', 'the blood on which he feeds', 'die by the sword', 'die by the sword drones since the dawn of time', 'compelled to live your sheltered lives', 'not once has anyone ever seen', 'such a rise of pure hypocrisy', 'ill instigate ill free your mind', 'ill show you what ive known all this time', 'god hates us all, god hates us all', 'you know its true god hates this place', 'you know its true he hates this race', 'homicide-suicide', 'hate heals, you should try it sometime', 'strive for peace with acts of war', 'the']\n"
     ]
    }
   ],
   "source": [
    "target_lyrics = get_target_lyrics(artist, title)\n",
    "gen_lyrics = lyrics_to_list('gpt2_gentext_slayer.txt')"
   ]
  },
  {
   "cell_type": "code",
   "execution_count": 131,
   "metadata": {},
   "outputs": [
    {
     "name": "stdout",
     "output_type": "stream",
     "text": [
      "['die by the sword', 'satan watches all of us', 'smiles as some do his bidding', 'try to escape the grasp of my hand', 'and your life will no longer exist', 'hear our cry, save us from', 'the hell in which we live', 'we turn our heads toward the sky', 'and listen for the steel', 'die by the sword', 'die by the sword', 'watch as flowers decay', 'on the cryptic life that died', 'the wisdom of the wizards', 'is only a nurtured lie', 'black knights of hells domain', 'walk upon the dead', 'satanas sits upon', 'the blood on which he feeds', 'die by the sword', 'die by the sword drones since the dawn of time', 'compelled to live your sheltered lives', 'not once has anyone ever seen', 'such a rise of pure hypocrisy', 'ill instigate ill free your mind', 'ill show you what ive known all this time', 'god hates us all, god hates us all', 'you know its true god hates this place', 'you know its true he hates this race', 'homicide-suicide', 'hate heals, you should try it sometime', 'strive for peace with acts of war', 'the']\n",
      "aug\n",
      "initialized phoney\n",
      "No matching line\n",
      " the\n",
      " the\n",
      " the\n",
      " the\n",
      " the\n",
      "vol the\n",
      "vol  the\n",
      "1 vol the\n",
      "1  vol the\n",
      "1 vol  the\n",
      "1  vol the\n",
      "vol 1 vol the\n",
      "vol 1  vol the\n",
      "vol  1 vol the\n",
      "1 vol 1 vol the\n",
      "1 vol 1 iii vol the\n",
      "1 ii vol 1 iii vol the\n",
      "1 vol ii vol 1 iii x vol the\n",
      "1 vol ii vol ii 1 iii x vol iv the\n",
      "1 vol ii vol ii 1 iii x vol iv the\n",
      "repeats greater than 3\n",
      "die by the sword drones since the dawn of time\n",
      "repeats greater than 3\n",
      "not once has anyone ever seen\n",
      "repeats greater than 3\n",
      "compelled to live your sheltered lives\n",
      "repeats greater than 3\n",
      "satan watches all of us\n",
      "repeats greater than 3\n",
      "ill show you what ive known all this time\n",
      "repeats greater than 3\n",
      "we turn our heads toward the sky\n",
      "repeats greater than 3\n",
      "you know its true god hates this place\n",
      "repeats greater than 3\n",
      "you know its true he hates this race\n",
      "No matching line\n",
      "the\n",
      "too many syls\n"
     ]
    }
   ],
   "source": [
    "new_lyrics = fit_lyrics(gen_lyrics, target_lyrics)"
   ]
  },
  {
   "cell_type": "code",
   "execution_count": 132,
   "metadata": {},
   "outputs": [
    {
     "name": "stdout",
     "output_type": "stream",
     "text": [
      "['The snow glows white on the mountain tonight', 'Not a footprint to be seen', 'A kingdom of isolation', \"And it looks like I'm the queen\", 'The wind is howling like this swirling storm inside', \"Couldn't keep it in, Heaven knows I tried\", \"Don't let them in, don't let them see\", 'Be the good girl you always have to be', \"Conceal, don't feel, don't let them know\", 'Well, now they know', 'Let it go, let it go', \"Can't hold it back anymore\", 'Let it go, let it go', 'Turn away and slam the door', \"I don't care what they're going to say\", 'Let the storm rage on!', 'The cold never bothered me anyway', \"It's funny how some distance\", 'Makes everything seem small', 'And the fears that once controlled me', \"Can't get to me at all\", \"It's time to see what I can do\", 'To test the limits and break through', 'No right, no wrong, no rules for me', \"I'm free\", 'Let it go, let it go', \"I'm one with the wind and sky\", 'Let it go, let it go', \"You'll never see me cry\", \"Here I stand, and here I'll stay\", 'Let the storm rage on', 'My power flurries through the air into the ground', 'My soul is spiraling in frozen fractals all around', 'And one thought crystallizes like an icy blast:', \"I'm never going back, the past is in the past!\", 'Let it go, let it go', \"And I'll rise like the break of dawn\", 'Let it go, let it go', 'That perfect girl is gone', 'Here I stand in the light of day', 'Let the storm rage on!', 'The cold never bothered me anyway']\n"
     ]
    }
   ],
   "source": [
    "print(target_lyrics)"
   ]
  },
  {
   "cell_type": "code",
   "execution_count": 133,
   "metadata": {},
   "outputs": [
    {
     "name": "stdout",
     "output_type": "stream",
     "text": [
      "['die by the sword', 'smiles as some do his bidding', 'try to escape the grasp of my hand', 'and your life will no longer exist', 'hear our cry, save us from', 'the hell in which we live', 'and listen for the steel', 'die by the sword', 'die by the sword', 'watch as flowers decay', 'on the cryptic life that died', 'the wisdom of the wizards', 'is only a nurtured lie', 'black knights of hells domain', 'walk upon the dead', 'satanas sits upon', 'the blood on which he feeds', 'die by the sword', 'such a rise of pure hypocrisy', 'ill instigate ill free your mind', 'god hates us all, god hates us all', 'homicide-suicide', 'hate heals, you should try it sometime', 'strive for peace with acts of war', 'the']\n"
     ]
    }
   ],
   "source": [
    "print(gen_lyrics)"
   ]
  },
  {
   "cell_type": "code",
   "execution_count": 134,
   "metadata": {},
   "outputs": [
    {
     "name": "stdout",
     "output_type": "stream",
     "text": [
      "['die by the sword drones since the dawn of time', 'satan watches all of us', 'compelled to live your sheltered lives', 'satan watches all of us', '1 vol ii vol ii 1 iii x vol iv the', 'die by the sword drones since the dawn of time', 'compelled to live your sheltered lives', 'die by the sword drones since the dawn of time', 'not once has anyone ever seen', 'die by the sword', 'the hell in which we live', 'satan watches all of us', 'the hell in which we live', 'the wisdom of the wizards', 'try to escape the grasp of my hand', 'walk upon the dead', 'compelled to live your sheltered lives', 'satan watches all of us', 'die by the sword', 'ill show you what ive known all this time', 'we turn our heads toward the sky', 'you know its true god hates this place', 'you know its true god hates this place', 'you know its true he hates this race', '']\n"
     ]
    }
   ],
   "source": [
    "print(new_lyrics)"
   ]
  },
  {
   "cell_type": "code",
   "execution_count": null,
   "metadata": {},
   "outputs": [],
   "source": [
    "print(target_schema)\n",
    "print(gen_schema)"
   ]
  },
  {
   "cell_type": "code",
   "execution_count": null,
   "metadata": {},
   "outputs": [],
   "source": [
    "# End tensorflow session \n",
    "sess.close()"
   ]
  }
 ],
 "metadata": {
  "kernelspec": {
   "display_name": "Python 3",
   "language": "python",
   "name": "python3"
  },
  "language_info": {
   "codemirror_mode": {
    "name": "ipython",
    "version": 3
   },
   "file_extension": ".py",
   "mimetype": "text/x-python",
   "name": "python",
   "nbconvert_exporter": "python",
   "pygments_lexer": "ipython3",
   "version": "3.6.10"
  },
  "toc": {
   "base_numbering": 1,
   "nav_menu": {},
   "number_sections": true,
   "sideBar": true,
   "skip_h1_title": false,
   "title_cell": "Table of Contents",
   "title_sidebar": "Contents",
   "toc_cell": false,
   "toc_position": {},
   "toc_section_display": true,
   "toc_window_display": false
  }
 },
 "nbformat": 4,
 "nbformat_minor": 4
}
