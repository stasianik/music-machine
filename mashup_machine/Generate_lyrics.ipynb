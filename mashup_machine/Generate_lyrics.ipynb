{
 "cells": [
  {
   "cell_type": "markdown",
   "metadata": {},
   "source": [
    "## Import Things"
   ]
  },
  {
   "cell_type": "code",
   "execution_count": null,
   "metadata": {},
   "outputs": [],
   "source": [
    "import gpt_2_simple as gpt2\n",
    "from big_phoney import BigPhoney\n",
    "import numpy as np\n",
    "import lyricsgenius as genius\n",
    "import pandas as pd\n",
    "import utils\n",
    "\n",
    "import nlpaug.augmenter.word as naw\n",
    "\n",
    "from nlpaug.util import Action\n",
    "# model_name = \"124M\"\n",
    "# model is saved into current directory under /models/124M/\n",
    "# gpt2.download_gpt2(model_name=model_name) #need to run only once. comment out once done."
   ]
  },
  {
   "cell_type": "markdown",
   "metadata": {},
   "source": [
    "## Load models and outside functions"
   ]
  },
  {
   "cell_type": "code",
   "execution_count": null,
   "metadata": {},
   "outputs": [],
   "source": [
    "#Initiate TensorFlow session, needs GPU\n",
    "#Might need to start this inside the function so I can choose the right \"run\" a.k.a model\n",
    "# from timeit import default_timer as timer\n",
    "# print('import tensorflow')\n",
    "# start = timer()\n",
    "sess = gpt2.start_tf_sess()\n",
    "# end = timer()\n",
    "# print('Elapsed time: ' + str(end - start))\n",
    "\n",
    "gpt2.load_gpt2(sess, run_name='run1')\n",
    "\n",
    "#Load text augmentation model\n",
    "aug = naw.ContextualWordEmbsAug(\n",
    "    model_path='bert-base-uncased', action=\"insert\")\n",
    "\n",
    "#For syllable counting\n",
    "phoney = BigPhoney()"
   ]
  },
  {
   "cell_type": "markdown",
   "metadata": {},
   "source": [
    "## Functions "
   ]
  },
  {
   "cell_type": "markdown",
   "metadata": {},
   "source": [
    "These will go in a Utils.py file "
   ]
  },
  {
   "cell_type": "code",
   "execution_count": null,
   "metadata": {},
   "outputs": [],
   "source": [
    "def get_target_lyrics(artist, title):\n",
    "    \n",
    "    api_key = 'Nc3VjqRNlEZiD9mqOQATDQ5PuZ4IjdgV13n7c39OIyNwsjuazZThQlQkdr_Hts4c'\n",
    "    api = genius.Genius(api_key)\n",
    "    api.remove_section_headers = True # Removes section headers like \"Verse\" and \"Intro\"\n",
    "    \n",
    "    #get song lyrics\n",
    "    song = api.search_song(artist, title)\n",
    "    \n",
    "    #clean up the target lyrics\n",
    "    target = song.lyrics\n",
    "    target = target.replace(\"\\u2005\",\" \")\n",
    "    target = target.replace(\"\\\\\",\" \")\n",
    "    target = target.replace(\"\\\\n\",\" \")\n",
    "    target = target.replace(\"(\",\" \")\n",
    "    target = target.replace(\")\",\" \")\n",
    "    target = target.replace(\"\\n\\n\",\"\\n\")\n",
    "    target = target.replace(\"\\n\\n\\n\",\"\\n\")\n",
    "    target = target.replace(\"2x\",\"\")\n",
    "    #create list of lines\n",
    "    target_lyrics = target.split(\"\\n\")\n",
    "    print(\"Target lyrics:\")\n",
    "    print(target_lyrics)\n",
    "    return target_lyrics"
   ]
  },
  {
   "cell_type": "code",
   "execution_count": null,
   "metadata": {},
   "outputs": [],
   "source": [
    "# Later on I'll need to add the artist as a parameter, if I have 3, so it can load in the right finetuned model\n",
    "# Figure out prefix\n",
    "def generate_lyrics(): \n",
    "    \n",
    "    gen_lyrics = gpt2.generate(sess, \n",
    "                     length=250,\n",
    "                     temperature=0.9,\n",
    "                     include_prefix=False,\n",
    "                     #prefix=\"Deep in the night\",\n",
    "                     nsamples=1,\n",
    "                     batch_size=1,\n",
    "                     return_as_list=True)[0]\n",
    "    \n",
    "    gen_lyrics = gen_lyrics.split(\"\\n\")\n",
    "    \n",
    "    return gen_lyrics"
   ]
  },
  {
   "cell_type": "code",
   "execution_count": 28,
   "metadata": {},
   "outputs": [],
   "source": [
    "def lyrics_to_list(file_name):\n",
    "    with open(file_name, 'r') as file:\n",
    "        data = file.read().split(\"====================\")\n",
    "        random_song = random.choice(data)\n",
    "        gen_lyrics = random_song.split(\"\\n\")\n",
    "        gen_lyrics = gen_lyrics[1:-1]\n",
    "    #print(gen_lyrics)\n",
    "    return gen_lyrics"
   ]
  },
  {
   "cell_type": "code",
   "execution_count": 33,
   "metadata": {},
   "outputs": [
    {
     "data": {
      "text/plain": [
       "['the past seven years, im lived to the fullest!',\n",
       " 'dont know what im talking about',\n",
       " 'im living my life with no memories',\n",
       " 'no one can see',\n",
       " 'i am the face of your concern',\n",
       " 'i am the face of your wrath',\n",
       " 'i am the scream that your mother goddess has conjured',\n",
       " 'from the depths of your mind',\n",
       " '',\n",
       " 'skeletons in my head',\n",
       " 'anticipation the stimulation',\n",
       " 'to kill the exhilaration',\n",
       " 'close your eyes',\n",
       " 'look deep in your soul',\n",
       " 'step outside yourself',\n",
       " 'and let your mind go',\n",
       " 'frozen eyes stare deep in your mind as you die',\n",
       " 'close your eyes',\n",
       " 'and forget your name',\n",
       " 'step outside yourself',\n",
       " 'and let your thoughts drain',\n",
       " 'as you go insane, go insane',\n",
       " 'innate seed',\n",
       " 'to watch you bleed',\n",
       " 'a demanding physical need',\n",
       " 'desecrated eviscerated',\n",
       " 'times perpetuated',\n",
       " 'close your eyes',\n",
       " 'look deep in your soul',\n",
       " 'step outside yourself',\n",
       " 'and let your mind go',\n",
       " 'frozen eyes stare deep in your mind as you die',\n",
       " 'close your eyes',\n",
       " 'and forget your name',\n",
       " 'step outside yourself',\n",
       " 'and let your thoughts drain',\n",
       " 'as you go insane, go insane',\n",
       " 'inert flesh',\n",
       " 'a bloody tomb',\n",
       " 'a decorated splatter brightens the room',\n",
       " '']"
      ]
     },
     "execution_count": 33,
     "metadata": {},
     "output_type": "execute_result"
    }
   ],
   "source": [
    "lyrics_to_list('gpt2_gentext_slayer.txt')"
   ]
  },
  {
   "cell_type": "code",
   "execution_count": 13,
   "metadata": {},
   "outputs": [
    {
     "ename": "KeyboardInterrupt",
     "evalue": "",
     "output_type": "error",
     "traceback": [
      "\u001b[0;31m---------------------------------------------------------------------------\u001b[0m",
      "\u001b[0;31mKeyboardInterrupt\u001b[0m                         Traceback (most recent call last)",
      "\u001b[0;32m~/opt/anaconda3/envs/insight/lib/python3.6/site-packages/IPython/core/async_helpers.py\u001b[0m in \u001b[0;36m_pseudo_sync_runner\u001b[0;34m(coro)\u001b[0m\n\u001b[1;32m     66\u001b[0m     \"\"\"\n\u001b[1;32m     67\u001b[0m     \u001b[0;32mtry\u001b[0m\u001b[0;34m:\u001b[0m\u001b[0;34m\u001b[0m\u001b[0;34m\u001b[0m\u001b[0m\n\u001b[0;32m---> 68\u001b[0;31m         \u001b[0mcoro\u001b[0m\u001b[0;34m.\u001b[0m\u001b[0msend\u001b[0m\u001b[0;34m(\u001b[0m\u001b[0;32mNone\u001b[0m\u001b[0;34m)\u001b[0m\u001b[0;34m\u001b[0m\u001b[0;34m\u001b[0m\u001b[0m\n\u001b[0m\u001b[1;32m     69\u001b[0m     \u001b[0;32mexcept\u001b[0m \u001b[0mStopIteration\u001b[0m \u001b[0;32mas\u001b[0m \u001b[0mexc\u001b[0m\u001b[0;34m:\u001b[0m\u001b[0;34m\u001b[0m\u001b[0;34m\u001b[0m\u001b[0m\n\u001b[1;32m     70\u001b[0m         \u001b[0;32mreturn\u001b[0m \u001b[0mexc\u001b[0m\u001b[0;34m.\u001b[0m\u001b[0mvalue\u001b[0m\u001b[0;34m\u001b[0m\u001b[0;34m\u001b[0m\u001b[0m\n",
      "\u001b[0;32m~/opt/anaconda3/envs/insight/lib/python3.6/site-packages/IPython/core/interactiveshell.py\u001b[0m in \u001b[0;36mrun_cell_async\u001b[0;34m(self, raw_cell, store_history, silent, shell_futures)\u001b[0m\n\u001b[1;32m   2986\u001b[0m         \u001b[0;32mif\u001b[0m \u001b[0mstore_history\u001b[0m\u001b[0;34m:\u001b[0m\u001b[0;34m\u001b[0m\u001b[0;34m\u001b[0m\u001b[0m\n\u001b[1;32m   2987\u001b[0m             self.history_manager.store_inputs(self.execution_count,\n\u001b[0;32m-> 2988\u001b[0;31m                                               cell, raw_cell)\n\u001b[0m\u001b[1;32m   2989\u001b[0m         \u001b[0;32mif\u001b[0m \u001b[0;32mnot\u001b[0m \u001b[0msilent\u001b[0m\u001b[0;34m:\u001b[0m\u001b[0;34m\u001b[0m\u001b[0;34m\u001b[0m\u001b[0m\n\u001b[1;32m   2990\u001b[0m             \u001b[0mself\u001b[0m\u001b[0;34m.\u001b[0m\u001b[0mlogger\u001b[0m\u001b[0;34m.\u001b[0m\u001b[0mlog\u001b[0m\u001b[0;34m(\u001b[0m\u001b[0mcell\u001b[0m\u001b[0;34m,\u001b[0m \u001b[0mraw_cell\u001b[0m\u001b[0;34m)\u001b[0m\u001b[0;34m\u001b[0m\u001b[0;34m\u001b[0m\u001b[0m\n",
      "\u001b[0;32m~/opt/anaconda3/envs/insight/lib/python3.6/site-packages/IPython/core/history.py\u001b[0m in \u001b[0;36mstore_inputs\u001b[0;34m(self, line_num, source, source_raw)\u001b[0m\n\u001b[1;32m    717\u001b[0m         \u001b[0mself\u001b[0m\u001b[0;34m.\u001b[0m\u001b[0minput_hist_raw\u001b[0m\u001b[0;34m.\u001b[0m\u001b[0mappend\u001b[0m\u001b[0;34m(\u001b[0m\u001b[0msource_raw\u001b[0m\u001b[0;34m)\u001b[0m\u001b[0;34m\u001b[0m\u001b[0;34m\u001b[0m\u001b[0m\n\u001b[1;32m    718\u001b[0m \u001b[0;34m\u001b[0m\u001b[0m\n\u001b[0;32m--> 719\u001b[0;31m         \u001b[0;32mwith\u001b[0m \u001b[0mself\u001b[0m\u001b[0;34m.\u001b[0m\u001b[0mdb_input_cache_lock\u001b[0m\u001b[0;34m:\u001b[0m\u001b[0;34m\u001b[0m\u001b[0;34m\u001b[0m\u001b[0m\n\u001b[0m\u001b[1;32m    720\u001b[0m             \u001b[0mself\u001b[0m\u001b[0;34m.\u001b[0m\u001b[0mdb_input_cache\u001b[0m\u001b[0;34m.\u001b[0m\u001b[0mappend\u001b[0m\u001b[0;34m(\u001b[0m\u001b[0;34m(\u001b[0m\u001b[0mline_num\u001b[0m\u001b[0;34m,\u001b[0m \u001b[0msource\u001b[0m\u001b[0;34m,\u001b[0m \u001b[0msource_raw\u001b[0m\u001b[0;34m)\u001b[0m\u001b[0;34m)\u001b[0m\u001b[0;34m\u001b[0m\u001b[0;34m\u001b[0m\u001b[0m\n\u001b[1;32m    721\u001b[0m             \u001b[0;31m# Trigger to flush cache and write to DB.\u001b[0m\u001b[0;34m\u001b[0m\u001b[0;34m\u001b[0m\u001b[0;34m\u001b[0m\u001b[0m\n",
      "\u001b[0;31mKeyboardInterrupt\u001b[0m: "
     ]
    }
   ],
   "source": [
    "def count_syls(text):\n",
    "    \n",
    "    schema = []\n",
    "    \n",
    "    for line in text:\n",
    "        syls = phoney.count_syllables(line)\n",
    "        schema.append(syls)\n",
    "        #print(syls,line)\n",
    "        \n",
    "    return schema"
   ]
  },
  {
   "cell_type": "markdown",
   "metadata": {},
   "source": [
    "#### The magical lyrics fitting function"
   ]
  },
  {
   "cell_type": "code",
   "execution_count": null,
   "metadata": {},
   "outputs": [],
   "source": [
    "from flaskexample.utils import lyrics_to_list, get_target_lyrics, fit_lyrics"
   ]
  },
  {
   "cell_type": "code",
   "execution_count": null,
   "metadata": {},
   "outputs": [],
   "source": [
    "#This function uses the count_syls function above to keep track of num of syllables in each line\n",
    "def fit_lyrics(gen_lyrics, target_lyrics):\n",
    "    aug = naw.ContextualWordEmbsAug(\n",
    "    model_path='bert-base-uncased', action=\"insert\")\n",
    "   # model._make_predict_function()\n",
    "    phoney = BigPhoney()\n",
    "    def count_syls(text):\n",
    "    \n",
    "        schema = []\n",
    "    \n",
    "        for line in text:\n",
    "            syls = phoney.count_syllables(line)\n",
    "            schema.append(syls)\n",
    "            #print(syls,line)\n",
    "        \n",
    "        return schema\n",
    "    \n",
    "    gen_schema = count_syls(gen_lyrics)\n",
    "    target_schema = count_syls(target_lyrics)\n",
    "    print(target_schema)\n",
    "    #make generated lyrics same length as target lyrics\n",
    "    target_len = len(target_schema)\n",
    "    del gen_schema[target_len:]\n",
    "    del gen_lyrics[target_len:]\n",
    "#    print(gen_schema)\n",
    "    #print(target_schema)\n",
    "    new_lyrics = []\n",
    "    loop = 1\n",
    "    for num, line in enumerate(gen_lyrics):\n",
    "        #print(num)\n",
    "        if (gen_schema[num] == target_schema[num]): \n",
    "            new_lyrics.append(line)\n",
    "        elif (gen_schema[num] < target_schema[num]):\n",
    "            syls = gen_schema[num]\n",
    "            while syls < target_schema[num]:\n",
    "                original_line = line\n",
    "                line = aug.augment(line)\n",
    "                syls = phoney.count_syllables(line)\n",
    "#                print(\"augmented:\")\n",
    "#                print(line)\n",
    "                #In case we overshoot (add too many syllables)\n",
    "                if syls > target_schema[num]:\n",
    "#                    print(\"Oops we overshot\")\n",
    "#                    print(syls)\n",
    "                    #target = target_schema[num]\n",
    "                    line = original_line\n",
    "                    syls = phoney.count_syllables(line)\n",
    "#                print(\"gen\")\n",
    "#                print(gen_schema[num])\n",
    "#                print(\"target\")\n",
    "#                print(target_schema[num])\n",
    "#                print(\"syls:\")\n",
    "#                print(syls)\n",
    "#                print(line)\n",
    "                #Just so we don't get stuck in the loop forever\n",
    "                loop = loop+1\n",
    "                if loop > 50:\n",
    "                    syls = target_schema[num]\n",
    "            new_lyrics.append(line)\n",
    "        elif (gen_schema[num] > target_schema[num]):\n",
    "            syls = gen_schema[num]\n",
    "            words = line.split(\" \")\n",
    "            while syls > target_schema[num]:\n",
    "                del words[-1]\n",
    "                new_line = ' '.join(words)\n",
    "                syls = phoney.count_syllables(new_line)\n",
    "                #In case too many syllables are deleted\n",
    "                if syls < target_schema[num]:\n",
    "                    #print(\"Oops, deleted too many\")\n",
    "                    new_line = aug.augment(new_line)\n",
    "                    syls = phoney.count_syllables(new_line)\n",
    "                    #print(syls)\n",
    "                #print(syls)\n",
    "            new_lyrics.append(new_line)\n",
    "    #print(\"New lyrics:\")\n",
    "    #print(new_lyrics)\n",
    "    \n",
    "    return new_lyrics"
   ]
  },
  {
   "cell_type": "code",
   "execution_count": null,
   "metadata": {},
   "outputs": [],
   "source": []
  },
  {
   "cell_type": "markdown",
   "metadata": {},
   "source": [
    "## Time to test everything"
   ]
  },
  {
   "cell_type": "code",
   "execution_count": null,
   "metadata": {},
   "outputs": [],
   "source": [
    "artist = \"Idina Menzel\"\n",
    "title = \"Let it go\"\n",
    "target_lyrics = get_target_lyrics(artist, title)"
   ]
  },
  {
   "cell_type": "code",
   "execution_count": null,
   "metadata": {},
   "outputs": [],
   "source": [
    "gen_lyrics = generate_lyrics()"
   ]
  },
  {
   "cell_type": "code",
   "execution_count": null,
   "metadata": {},
   "outputs": [],
   "source": [
    "fit_lyrics(gen_lyrics, target_lyrics)"
   ]
  },
  {
   "cell_type": "code",
   "execution_count": null,
   "metadata": {},
   "outputs": [],
   "source": [
    "print(target_lyrics)"
   ]
  },
  {
   "cell_type": "code",
   "execution_count": null,
   "metadata": {},
   "outputs": [],
   "source": [
    "print(gen_lyrics)"
   ]
  },
  {
   "cell_type": "code",
   "execution_count": null,
   "metadata": {},
   "outputs": [],
   "source": [
    "print(new_lyrics)"
   ]
  },
  {
   "cell_type": "code",
   "execution_count": null,
   "metadata": {},
   "outputs": [],
   "source": [
    "print(target_schema)\n",
    "print(gen_schema)"
   ]
  },
  {
   "cell_type": "code",
   "execution_count": null,
   "metadata": {},
   "outputs": [],
   "source": [
    "from timeit import default_timer as timer\n",
    "print('import tensorflow')\n",
    "start = timer()\n",
    "import tensorflow\n",
    "end = timer()\n",
    "print('Elapsed time: ' + str(end - start))"
   ]
  },
  {
   "cell_type": "code",
   "execution_count": null,
   "metadata": {},
   "outputs": [],
   "source": [
    "sess.close()"
   ]
  }
 ],
 "metadata": {
  "kernelspec": {
   "display_name": "Python 3",
   "language": "python",
   "name": "python3"
  },
  "language_info": {
   "codemirror_mode": {
    "name": "ipython",
    "version": 3
   },
   "file_extension": ".py",
   "mimetype": "text/x-python",
   "name": "python",
   "nbconvert_exporter": "python",
   "pygments_lexer": "ipython3",
   "version": "3.6.10"
  },
  "toc": {
   "base_numbering": 1,
   "nav_menu": {},
   "number_sections": true,
   "sideBar": true,
   "skip_h1_title": false,
   "title_cell": "Table of Contents",
   "title_sidebar": "Contents",
   "toc_cell": false,
   "toc_position": {},
   "toc_section_display": true,
   "toc_window_display": false
  }
 },
 "nbformat": 4,
 "nbformat_minor": 4
}
