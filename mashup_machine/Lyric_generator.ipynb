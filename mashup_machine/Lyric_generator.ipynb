{
 "cells": [
  {
   "cell_type": "markdown",
   "metadata": {},
   "source": [
    "## Import Things"
   ]
  },
  {
   "cell_type": "code",
   "execution_count": null,
   "metadata": {},
   "outputs": [],
   "source": [
    "import gpt_2_simple as gpt2\n",
    "from big_phoney import BigPhoney\n",
    "import numpy as np\n",
    "import lyricsgenius as genius\n",
    "import json\n",
    "import pandas as pd\n",
    "\n",
    "import nlpaug.augmenter.char as nac\n",
    "import nlpaug.augmenter.word as naw\n",
    "import nlpaug.augmenter.sentence as nas\n",
    "import nlpaug.flow as nafc\n",
    "\n",
    "from nlpaug.util import Action\n",
    "# model_name = \"124M\"\n",
    "# model is saved into current directory under /models/124M/\n",
    "# gpt2.download_gpt2(model_name=model_name) #need to run only once. comment out once done."
   ]
  },
  {
   "cell_type": "markdown",
   "metadata": {},
   "source": [
    "## Load models and outside functions"
   ]
  },
  {
   "cell_type": "code",
   "execution_count": null,
   "metadata": {},
   "outputs": [],
   "source": [
    "#Initiate TensorFlow session, needs GPU\n",
    "sess = gpt2.start_tf_sess()\n",
    "gpt2.load_gpt2(sess, run_name='run1')\n",
    "\n",
    "#Load text augmentation model\n",
    "aug = naw.ContextualWordEmbsAug(\n",
    "    model_path='bert-base-uncased', action=\"insert\")\n",
    "\n",
    "#For syllable counting\n",
    "phoney = BigPhoney()"
   ]
  },
  {
   "cell_type": "markdown",
   "metadata": {},
   "source": [
    "## Functions "
   ]
  },
  {
   "cell_type": "markdown",
   "metadata": {},
   "source": [
    "These will go in a Utils.py file "
   ]
  },
  {
   "cell_type": "markdown",
   "metadata": {},
   "source": [
    "I'll also need a get_target_lyrics function so I can get whatever lyrics the user wants as the target. Will do this in another file. "
   ]
  },
  {
   "cell_type": "code",
   "execution_count": null,
   "metadata": {},
   "outputs": [],
   "source": [
    "def get_target_lyrics():\n",
    "    api_key = 'YOUR_API_KEY_HERE'\n",
    "    api = genius.Genius(api_key)\n",
    "    input_artist = (\"Idina Mansel\")\n",
    "    input_title = (\"Let it go\")\n",
    "    artist = genius.search_artist(input_artist)\n",
    "    song = genius.search_song(input_title, artist.name)\n",
    "    print(song.lyrics)\n",
    "    return target_lyrics"
   ]
  },
  {
   "cell_type": "code",
   "execution_count": 14,
   "metadata": {},
   "outputs": [
    {
     "name": "stdout",
     "output_type": "stream",
     "text": [
      "Searching for \"Let it go\" by Idina Menzel...\n",
      "Done.\n",
      "['The snow glows white on the mountain tonight', 'Not a footprint to be seen', 'A kingdom of isolation', \"And it looks like I'm the queen\", 'The wind is howling like this swirling storm inside', \"Couldn't keep it in, heaven knows I've tried\", \"Don't let them in, don't let them see\", 'Be the good girl you always have to be', \"Conceal, don't feel, don't let them know\", 'Well, now they know', 'Let it go, let it go', \"Can't hold it back anymore\", 'Let it go, let it go', 'Turn away and slam the door', \"I don't care what they're going to say\", 'Let the storm rage on', 'The cold never bothered me anyway', 'Let it go, let it go', \"Can't hold it back anymore\", 'Let it go, let it go', 'Turn away and slam the door', 'Let it go  go, go, go go, go go, go go, go, go, go go ', 'Let it go', 'Let it go', 'Let it go', \"It's funny how some distance makes everything seem small\", \"And the fears that once controlled me can't get to me at all\", \"It's time to see what I can do\", 'To test the limits and break through', 'No right, no wrong, no rules for me', \"I'm free\", 'Let it go, let it go', 'I am one with the wind and sky', 'Let it go, let it go', \"You'll never see me cry\", 'Here I stand and here I stay', 'Let the storm rage on', 'My power flurries through the air into the ground', 'My soul is spiraling in frozen fractals all around', 'And one thought crystallizes like an icy blast', \"I'm never going back, the past is in the past\", 'Let it go', 'The cold never bothered me anyway', 'Let it go, let it go', \"And I'll rise like the break of dawn\", 'Let it go, let it go', 'That perfect girl is gone', 'Here I stand in the light of day', 'Let the storm rage on']\n",
      "The snow glows white on the mountain tonight\n",
      "Not a footprint to be seen\n",
      "A kingdom of isolation\n",
      "And it looks like I'm the queen\n",
      "The wind is howling like this swirling storm inside\n",
      "Couldn't keep it in, heaven knows I've tried\n",
      "Don't let them in, don't let them see\n",
      "Be the good girl you always have to be\n",
      "Conceal, don't feel, don't let them know\n",
      "Well, now they know\n",
      "Let it go, let it go\n",
      "Can't hold it back anymore\n",
      "Let it go, let it go\n",
      "Turn away and slam the door\n",
      "I don't care what they're going to say\n",
      "Let the storm rage on\n",
      "The cold never bothered me anyway\n",
      "Let it go, let it go\n",
      "Can't hold it back anymore\n",
      "Let it go, let it go\n",
      "Turn away and slam the door\n",
      "Let it go (go, go, go go, go go, go go, go, go, go go)\n",
      "Let it go\n",
      "Let it go\n",
      "Let it go\n",
      "It's funny how some distance makes everything seem small\n",
      "And the fears that once controlled me can't get to me at all\n",
      "It's time to see what I can do\n",
      "To test the limits and break through\n",
      "No right, no wrong, no rules for me\n",
      "I'm free\n",
      "Let it go, let it go\n",
      "I am one with the wind and sky\n",
      "Let it go, let it go\n",
      "You'll never see me cry\n",
      "Here I stand and here I stay\n",
      "Let the storm rage on\n",
      "My power flurries through the air into the ground\n",
      "My soul is spiraling in frozen fractals all around\n",
      "And one thought crystallizes like an icy blast\n",
      "I'm never going back, the past is in the past\n",
      "Let it go\n",
      "The cold never bothered me anyway\n",
      "Let it go, let it go\n",
      "And I'll rise like the break of dawn\n",
      "Let it go, let it go\n",
      "That perfect girl is gone\n",
      "Here I stand in the light of day\n",
      "Let the storm rage on\n"
     ]
    }
   ],
   "source": [
    "    import lyricsgenius as genius\n",
    "    api_key = 'YOUR_API_KEY_HERE'\n",
    "    api = genius.Genius(api_key)\n",
    "    api.remove_section_headers = True # Removes section headers like \"Verse\" and \"Intro\"\n",
    "    input_artist = (\"Idina Menzel\")\n",
    "    input_title = (\"Let it go\")\n",
    "    #artist = api.search_artist(input_artist)\n",
    "    song = api.search_song(input_title, input_artist)\n",
    "    \n",
    "    #clean up the target lyrics\n",
    "    target = song.lyrics\n",
    "    target = target.replace(\"\\u2005\",\" \")\n",
    "    target = target.replace(\"\\\\\",\" \")\n",
    "    target = target.replace(\"\\\\n\",\" \")\n",
    "    target = target.replace(\"(\",\" \")\n",
    "    target = target.replace(\")\",\" \")\n",
    "    target = target.replace(\"\\n\\n\",\" \")\n",
    "    target = target.split(\"\\n\")\n",
    "    print(target)\n",
    "    print(song.lyrics)"
   ]
  },
  {
   "cell_type": "code",
   "execution_count": 8,
   "metadata": {},
   "outputs": [
    {
     "name": "stdout",
     "output_type": "stream",
     "text": [
      "['The snow glows white on the mountain tonight', 'Not a footprint to be seen', 'A kingdom of\\u2005isolation', \"And\\u2005it looks like\\u2005I'm the queen\", 'The wind is howling\\u2005like this swirling storm inside', \"Couldn't keep it in, heaven knows I've tried\", \"Don't let them in, don't let them see\", 'Be the good girl you always have to be', \"Conceal, don't feel, don't let them know\", 'Well, now they know', 'Let it go, let it go', \"Can't hold it back anymore\", 'Let it go, let it go', 'Turn away and slam the door', \"I don't care what they're going to say\", 'Let the storm rage on', 'The cold never bothered me anyway', 'Let it go, let it go', \"Can't hold it back anymore\", 'Let it go, let it go', 'Turn away and slam the door', 'Let it go (go, go, go go, go go, go go, go, go, go go)', 'Let it go', 'Let it go', 'Let it go', \"It's funny how some distance makes everything seem small\", \"And the fears that once controlled me can't get to me at all\", \"It's time to see what I can do\", 'To test the limits and break through', 'No right, no wrong, no rules for me', \"I'm free\", 'Let it go, let it go', 'I am one with the wind and sky', 'Let it go, let it go', \"You'll never see me cry\", 'Here I stand and here I stay', 'Let the storm rage on', 'My power flurries through the air into the ground', 'My soul is spiraling in frozen fractals all around', 'And one thought crystallizes like an icy blast', \"I'm never going back, the past is in the past\", 'Let it go', 'The cold never bothered me anyway', 'Let it go, let it go', \"And I'll rise like the break of dawn\", 'Let it go, let it go', 'That perfect girl is gone', 'Here I stand in the light of day', 'Let the storm rage on']\n"
     ]
    }
   ],
   "source": [
    "target = song.lyrics\n",
    "target = target.split(\"\\n\")\n",
    "print(target)"
   ]
  },
  {
   "cell_type": "code",
   "execution_count": null,
   "metadata": {},
   "outputs": [],
   "source": [
    "# Later on I'll need to add the artist as a parameter, if I have 3, so it can load in the right finetuned model\n",
    "def generate_lyrics(): \n",
    "    \n",
    "    generated_text = gpt2.generate(sess, \n",
    "                     length=250,\n",
    "                     temperature=0.9,\n",
    "                     prefix=\"Deep in the night\",\n",
    "                     nsamples=1,\n",
    "                     batch_size=1,\n",
    "                     return_as_list=True)[0]\n",
    "    \n",
    "    generated_text = generated_text.split(\"\\n\")\n",
    "    \n",
    "    target_lyrics = [\"The snow glows white on the mountain tonight\",\n",
    "    \"Not a footprint to be seen\",\n",
    "    \"A kingdom of isolation\",\n",
    "    \"And it looks like I'm the queen\",\n",
    "    \"The wind is howling like this swirling storm inside\",\n",
    "    \"Couldn't keep it in, heaven knows I've tried\",\n",
    "    \"Don't let them in, don't let them see\",\n",
    "    \"Be the good girl you always have to be\",\n",
    "    \"Conceal, don't feel, don't let them know\",\n",
    "    \"Well, now they know\",\n",
    "    \"Let it go, let it go\",\n",
    "    \"Can't hold it back anymore\",\n",
    "    \"Let it go, let it go\",\n",
    "    \"Turn away and slam the door\",\n",
    "    \"I don't care what they're going to say\",\n",
    "    \"Let the storm rage on\",\n",
    "    \"The cold never bothered me anyway\"]\n",
    "    \n",
    "    return generated_text, target_lyrics"
   ]
  },
  {
   "cell_type": "markdown",
   "metadata": {},
   "source": [
    "This next small part seems unnecessary. Should be able to just get generated text and target lyrics straight from function"
   ]
  },
  {
   "cell_type": "code",
   "execution_count": null,
   "metadata": {},
   "outputs": [],
   "source": [
    "lyrics = generate_lyrics()\n",
    "gen_lyrics = lyrics[0]\n",
    "target_lyrics = lyrics[1]"
   ]
  },
  {
   "cell_type": "markdown",
   "metadata": {},
   "source": [
    "Here's something that counts syllables"
   ]
  },
  {
   "cell_type": "code",
   "execution_count": null,
   "metadata": {},
   "outputs": [],
   "source": [
    "def count_syls(text):\n",
    "    \n",
    "    gen_schema = []\n",
    "    \n",
    "    for line in text:\n",
    "         syls = phoney.count_syllables(line)\n",
    "         gen_schema.append(syls)\n",
    "         #print(syls,line)\n",
    "        \n",
    "    return gen_schema"
   ]
  },
  {
   "cell_type": "markdown",
   "metadata": {},
   "source": [
    "The next two parts also seems like they should be in functions"
   ]
  },
  {
   "cell_type": "code",
   "execution_count": null,
   "metadata": {},
   "outputs": [],
   "source": [
    "gen_schema = count_syls(gen_lyrics)\n",
    "target_schema = count_syls(target_lyrics)"
   ]
  },
  {
   "cell_type": "code",
   "execution_count": null,
   "metadata": {},
   "outputs": [],
   "source": [
    "target_len = len(target_schema)\n",
    "del gen_schema[target_len:]\n",
    "del gen_lyrics[target_len:]\n",
    "#print(gen_schema, len(gen_schema), len(target_schema))"
   ]
  },
  {
   "cell_type": "markdown",
   "metadata": {},
   "source": [
    "#### The magical lyrics fitting function that hopefully works consistently!"
   ]
  },
  {
   "cell_type": "code",
   "execution_count": null,
   "metadata": {},
   "outputs": [],
   "source": [
    "def fit_lyrics(gen_schema, gen_lyrics, target_schema, target_lyrics)\n",
    "    new_lyrics = []\n",
    "    for num, line in enumerate(gen_lyrics):\n",
    "        if (gen_schema[num] == target_schema[num]): \n",
    "            new_lyrics.append(line)\n",
    "        elif (gen_schema[num] < target_schema[num]):\n",
    "            syls = gen_schema[num]\n",
    "            while syls < target_schema[num]:\n",
    "                new_line = aug.augment(line)\n",
    "                syls = phoney.count_syllables(new_line)\n",
    "                #In case we overshoot (add too many syllables)\n",
    "                if syls > target_schema[num]:\n",
    "                    print(\"Oops we overshot\")\n",
    "                    print(syls)\n",
    "                    print(\"For line:\")\n",
    "                    print(num)\n",
    "                    new_line = line\n",
    "                #print(\"---------\")\n",
    "            new_lyrics.append(new_line)\n",
    "        elif (gen_schema[num] > target_schema[num]):\n",
    "            syls = gen_schema[num]\n",
    "            words = line.split(\" \")\n",
    "            while syls > target_schema[num]:\n",
    "                del words[-1]\n",
    "                new_line = ' '.join(words)\n",
    "                syls = phoney.count_syllables(new_line)\n",
    "                #In case too many syllables are deleted\n",
    "                if syls < target_schema[num]:\n",
    "                    print(\"Oops, deleted too many\")\n",
    "                    new_line = aug.augment(new_line)\n",
    "                    syls = phoney.count_syllables(new_line)\n",
    "            new_lyrics.append(new_line)\n",
    "    print(new_lyrics)\n",
    "    \n",
    "    return new_lyrics"
   ]
  }
 ],
 "metadata": {
  "kernelspec": {
   "display_name": "Python 3",
   "language": "python",
   "name": "python3"
  },
  "language_info": {
   "codemirror_mode": {
    "name": "ipython",
    "version": 3
   },
   "file_extension": ".py",
   "mimetype": "text/x-python",
   "name": "python",
   "nbconvert_exporter": "python",
   "pygments_lexer": "ipython3",
   "version": "3.6.10"
  },
  "toc": {
   "base_numbering": 1,
   "nav_menu": {},
   "number_sections": true,
   "sideBar": true,
   "skip_h1_title": false,
   "title_cell": "Table of Contents",
   "title_sidebar": "Contents",
   "toc_cell": false,
   "toc_position": {},
   "toc_section_display": true,
   "toc_window_display": false
  }
 },
 "nbformat": 4,
 "nbformat_minor": 4
}
