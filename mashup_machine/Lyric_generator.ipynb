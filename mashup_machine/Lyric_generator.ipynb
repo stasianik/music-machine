{
 "cells": [
  {
   "cell_type": "code",
   "execution_count": 1,
   "metadata": {},
   "outputs": [
    {
     "name": "stderr",
     "output_type": "stream",
     "text": [
      "/Users/stasianik/opt/anaconda3/envs/insight/lib/python3.6/site-packages/tensorflow/python/framework/dtypes.py:516: FutureWarning: Passing (type, 1) or '1type' as a synonym of type is deprecated; in a future version of numpy, it will be understood as (type, (1,)) / '(1,)type'.\n",
      "  _np_qint8 = np.dtype([(\"qint8\", np.int8, 1)])\n",
      "/Users/stasianik/opt/anaconda3/envs/insight/lib/python3.6/site-packages/tensorflow/python/framework/dtypes.py:517: FutureWarning: Passing (type, 1) or '1type' as a synonym of type is deprecated; in a future version of numpy, it will be understood as (type, (1,)) / '(1,)type'.\n",
      "  _np_quint8 = np.dtype([(\"quint8\", np.uint8, 1)])\n",
      "/Users/stasianik/opt/anaconda3/envs/insight/lib/python3.6/site-packages/tensorflow/python/framework/dtypes.py:518: FutureWarning: Passing (type, 1) or '1type' as a synonym of type is deprecated; in a future version of numpy, it will be understood as (type, (1,)) / '(1,)type'.\n",
      "  _np_qint16 = np.dtype([(\"qint16\", np.int16, 1)])\n",
      "/Users/stasianik/opt/anaconda3/envs/insight/lib/python3.6/site-packages/tensorflow/python/framework/dtypes.py:519: FutureWarning: Passing (type, 1) or '1type' as a synonym of type is deprecated; in a future version of numpy, it will be understood as (type, (1,)) / '(1,)type'.\n",
      "  _np_quint16 = np.dtype([(\"quint16\", np.uint16, 1)])\n",
      "/Users/stasianik/opt/anaconda3/envs/insight/lib/python3.6/site-packages/tensorflow/python/framework/dtypes.py:520: FutureWarning: Passing (type, 1) or '1type' as a synonym of type is deprecated; in a future version of numpy, it will be understood as (type, (1,)) / '(1,)type'.\n",
      "  _np_qint32 = np.dtype([(\"qint32\", np.int32, 1)])\n",
      "/Users/stasianik/opt/anaconda3/envs/insight/lib/python3.6/site-packages/tensorflow/python/framework/dtypes.py:525: FutureWarning: Passing (type, 1) or '1type' as a synonym of type is deprecated; in a future version of numpy, it will be understood as (type, (1,)) / '(1,)type'.\n",
      "  np_resource = np.dtype([(\"resource\", np.ubyte, 1)])\n",
      "/Users/stasianik/opt/anaconda3/envs/insight/lib/python3.6/site-packages/tensorboard/compat/tensorflow_stub/dtypes.py:541: FutureWarning: Passing (type, 1) or '1type' as a synonym of type is deprecated; in a future version of numpy, it will be understood as (type, (1,)) / '(1,)type'.\n",
      "  _np_qint8 = np.dtype([(\"qint8\", np.int8, 1)])\n",
      "/Users/stasianik/opt/anaconda3/envs/insight/lib/python3.6/site-packages/tensorboard/compat/tensorflow_stub/dtypes.py:542: FutureWarning: Passing (type, 1) or '1type' as a synonym of type is deprecated; in a future version of numpy, it will be understood as (type, (1,)) / '(1,)type'.\n",
      "  _np_quint8 = np.dtype([(\"quint8\", np.uint8, 1)])\n",
      "/Users/stasianik/opt/anaconda3/envs/insight/lib/python3.6/site-packages/tensorboard/compat/tensorflow_stub/dtypes.py:543: FutureWarning: Passing (type, 1) or '1type' as a synonym of type is deprecated; in a future version of numpy, it will be understood as (type, (1,)) / '(1,)type'.\n",
      "  _np_qint16 = np.dtype([(\"qint16\", np.int16, 1)])\n",
      "/Users/stasianik/opt/anaconda3/envs/insight/lib/python3.6/site-packages/tensorboard/compat/tensorflow_stub/dtypes.py:544: FutureWarning: Passing (type, 1) or '1type' as a synonym of type is deprecated; in a future version of numpy, it will be understood as (type, (1,)) / '(1,)type'.\n",
      "  _np_quint16 = np.dtype([(\"quint16\", np.uint16, 1)])\n",
      "/Users/stasianik/opt/anaconda3/envs/insight/lib/python3.6/site-packages/tensorboard/compat/tensorflow_stub/dtypes.py:545: FutureWarning: Passing (type, 1) or '1type' as a synonym of type is deprecated; in a future version of numpy, it will be understood as (type, (1,)) / '(1,)type'.\n",
      "  _np_qint32 = np.dtype([(\"qint32\", np.int32, 1)])\n",
      "/Users/stasianik/opt/anaconda3/envs/insight/lib/python3.6/site-packages/tensorboard/compat/tensorflow_stub/dtypes.py:550: FutureWarning: Passing (type, 1) or '1type' as a synonym of type is deprecated; in a future version of numpy, it will be understood as (type, (1,)) / '(1,)type'.\n",
      "  np_resource = np.dtype([(\"resource\", np.ubyte, 1)])\n",
      "Using TensorFlow backend.\n"
     ]
    }
   ],
   "source": [
    "import gpt_2_simple as gpt2\n",
    "from big_phoney import BigPhoney\n",
    "import numpy as np\n",
    "\n",
    "# model_name = \"124M\"\n",
    "# model is saved into current directory under /models/124M/\n",
    "# gpt2.download_gpt2(model_name=model_name) #need to run only once. comment out once done."
   ]
  },
  {
   "cell_type": "code",
   "execution_count": 2,
   "metadata": {},
   "outputs": [
    {
     "name": "stdout",
     "output_type": "stream",
     "text": [
      "Loading checkpoint checkpoint/run1/model-500\n",
      "WARNING:tensorflow:From /Users/stasianik/opt/anaconda3/envs/insight/lib/python3.6/site-packages/tensorflow/python/training/saver.py:1276: checkpoint_exists (from tensorflow.python.training.checkpoint_management) is deprecated and will be removed in a future version.\n",
      "Instructions for updating:\n",
      "Use standard file APIs to check for files with this prefix.\n",
      "INFO:tensorflow:Restoring parameters from checkpoint/run1/model-500\n"
     ]
    }
   ],
   "source": [
    "#Initiate TensorFlow session\n",
    "sess = gpt2.start_tf_sess()\n",
    "gpt2.load_gpt2(sess, run_name='run1')"
   ]
  },
  {
   "cell_type": "code",
   "execution_count": 32,
   "metadata": {},
   "outputs": [],
   "source": [
    "# Later on I'll need to add the artist as a parameter, if I have 3, so it can load in the right finetuned model\n",
    "def generate_lyrics(): \n",
    "    \n",
    "    generated_text = gpt2.generate(sess, \n",
    "                     length=250,\n",
    "                     temperature=0.9,\n",
    "                     prefix=\"Deep in the night\",\n",
    "                     nsamples=1,\n",
    "                     batch_size=1,\n",
    "                     return_as_list=True)[0]\n",
    "    \n",
    "    generated_text = generated_text.split(\"\\n\")\n",
    "    \n",
    "    target_lyrics = [\"The snow glows white on the mountain tonight\",\n",
    "    \"Not a footprint to be seen\",\n",
    "    \"A kingdom of isolation\",\n",
    "    \"And it looks like I'm the queen\",\n",
    "    \"The wind is howling like this swirling storm inside\",\n",
    "    \"Couldn't keep it in, heaven knows I've tried\",\n",
    "    \"Don't let them in, don't let them see\",\n",
    "    \"Be the good girl you always have to be\",\n",
    "    \"Conceal, don't feel, don't let them know\",\n",
    "    \"Well, now they know\",\n",
    "    \"Let it go, let it go\",\n",
    "    \"Can't hold it back anymore\",\n",
    "    \"Let it go, let it go\",\n",
    "    \"Turn away and slam the door\",\n",
    "    \"I don't care what they're going to say\",\n",
    "    \"Let the storm rage on\",\n",
    "    \"The cold never bothered me anyway\"]\n",
    "    \n",
    "    return generated_text, target_lyrics"
   ]
  },
  {
   "cell_type": "code",
   "execution_count": 33,
   "metadata": {},
   "outputs": [],
   "source": [
    "lyrics = generate_lyrics()\n",
    "gen_lyrics = lyrics[0]\n",
    "target_lyrics = lyrics[1]"
   ]
  },
  {
   "cell_type": "code",
   "execution_count": 35,
   "metadata": {},
   "outputs": [
    {
     "name": "stdout",
     "output_type": "stream",
     "text": [
      "['Deep in the night (pour blood over me)', 'in the fog (pour blood over me)', 'so close no matter how far (pour blood over me)', 'so far (pour blood over me)', 'so far (pour blood over me)', 'as a child you looked after yourself', 'by hiding in a corner', 'by playing hide and seek', 'in the heat of the moment', 'the real you will find out', 'at their funeral', 'you looked after me right through', 'when we were little', 'you wanted to be the hero', 'but you didnt want to be the villain', 'when we are talking about things related to music,', '', 'myths, facts, trends, trends', 'that i see as fake news', 'and the fix is in', 'the medical community.', '', 'and you guys are on the ground in Yemen', 'with heavy handedness', 'for the past three months.', '', 'youre guilty as charged', 'in the federal court in Washington.', '', 'apricott sachs.', '', 'ha ha!', '', 'youre the face you always will see', 'in your e-commerce store', '', 'in your Magazine of the Month', 'and, of course, you guys.', '', 'you may recall,', 'in late-May,']\n"
     ]
    }
   ],
   "source": [
    "print(gen_lyrics)"
   ]
  },
  {
   "cell_type": "code",
   "execution_count": 37,
   "metadata": {},
   "outputs": [],
   "source": [
    "def count_syls(text):\n",
    "    \n",
    "    phoney = BigPhoney()\n",
    "    gen_schema = []\n",
    "    \n",
    "    for line in text:\n",
    "         syls = phoney.count_syllables(line)\n",
    "         gen_schema.append(syls)\n",
    "         print(syls,line)\n",
    "        \n",
    "    return gen_schema"
   ]
  },
  {
   "cell_type": "code",
   "execution_count": 64,
   "metadata": {},
   "outputs": [
    {
     "name": "stdout",
     "output_type": "stream",
     "text": [
      "9 Deep in the night (pour blood over me)\n",
      "8 in the fog (pour blood over me)\n",
      "12 so close no matter how far (pour blood over me)\n",
      "7 so far (pour blood over me)\n",
      "7 so far (pour blood over me)\n",
      "9 as a child you looked after yourself\n",
      "7 by hiding in a corner\n",
      "6 by playing hide and seek\n",
      "7 in the heat of the moment\n",
      "6 the real you will find out\n",
      "5 at their funeral\n",
      "7 you looked after me right through\n",
      "5 when we were little\n",
      "8 you wanted to be the hero\n",
      "10 but you didnt want to be the villain\n",
      "14 when we are talking about things related to music,\n",
      "0 \n",
      "4 myths, facts, trends, trends\n",
      "6 that i see as fake news\n",
      "5 and the fix is in\n",
      "8 the medical community.\n",
      "0 \n",
      "10 and you guys are on the ground in Yemen\n",
      "6 with heavy handedness\n",
      "5 for the past three months.\n",
      "0 \n",
      "5 youre guilty as charged\n",
      "10 in the federal court in Washington.\n",
      "0 \n",
      "4 apricott sachs.\n",
      "0 \n",
      "2 ha ha!\n",
      "0 \n",
      "8 youre the face you always will see\n",
      "6 in your e-commerce store\n",
      "0 \n",
      "8 in your Magazine of the Month\n",
      "5 and, of course, you guys.\n",
      "0 \n",
      "4 you may recall,\n",
      "3 in late-May,\n",
      "[9, 8, 12, 7, 7, 9, 7, 6, 7, 6, 5, 7, 5, 8, 10, 14, 0, 4, 6, 5, 8, 0, 10, 6, 5, 0, 5, 10, 0, 4, 0, 2, 0, 8, 6, 0, 8, 5, 0, 4, 3]\n"
     ]
    }
   ],
   "source": [
    "gen_schema = count_syls(gen_lyrics)\n",
    "print(gen_schema)"
   ]
  },
  {
   "cell_type": "code",
   "execution_count": 53,
   "metadata": {},
   "outputs": [
    {
     "name": "stdout",
     "output_type": "stream",
     "text": [
      "10 The snow glows white on the mountain tonight\n",
      "7 Not a footprint to be seen\n",
      "8 A kingdom of isolation\n",
      "7 And it looks like I'm the queen\n",
      "12 The wind is howling like this swirling storm inside\n",
      "10 Couldn't keep it in, heaven knows I've tried\n",
      "8 Don't let them in, don't let them see\n",
      "10 Be the good girl you always have to be\n",
      "8 Conceal, don't feel, don't let them know\n",
      "4 Well, now they know\n",
      "6 Let it go, let it go\n",
      "7 Can't hold it back anymore\n",
      "6 Let it go, let it go\n",
      "7 Turn away and slam the door\n",
      "9 I don't care what they're going to say\n",
      "5 Let the storm rage on\n",
      "10 The cold never bothered me anyway\n",
      "[10, 7, 8, 7, 12, 10, 8, 10, 8, 4, 6, 7, 6, 7, 9, 5, 10]\n"
     ]
    }
   ],
   "source": [
    "target_schema = count_syls(target_lyrics)\n",
    "print(target_schema)"
   ]
  },
  {
   "cell_type": "code",
   "execution_count": 65,
   "metadata": {},
   "outputs": [
    {
     "name": "stdout",
     "output_type": "stream",
     "text": [
      "[9, 8, 12, 7, 7, 9, 7, 6, 7, 6, 5, 7, 5, 8, 10, 14, 0] 17 17\n"
     ]
    }
   ],
   "source": [
    "target_len = len(target_schema)\n",
    "del gen_schema[target_len:]\n",
    "print(gen_schema, len(gen_schema), len(target_schema))"
   ]
  },
  {
   "cell_type": "code",
   "execution_count": 85,
   "metadata": {},
   "outputs": [
    {
     "name": "stdout",
     "output_type": "stream",
     "text": [
      "['Deep in the night (pour blood over me)', 'in the fog (pour blood over me)', 'so close no matter how far (pour blood over me)', 'so far (pour blood over me)', 'so far (pour blood over me)', 'as a child you looked after yourself', 'by hiding in a corner', 'by playing hide and seek', 'in the heat of the moment', 'the real you will find out', 'at their funeral', 'you looked after me right through', 'when we were little', 'you wanted to be the hero', 'but you didnt want to be the villain', 'when we are talking about things related to music,', ''] 17\n"
     ]
    }
   ],
   "source": [
    "del gen_lyrics[target_len:]\n",
    "print(gen_lyrics, len(gen_lyrics))"
   ]
  },
  {
   "cell_type": "code",
   "execution_count": 72,
   "metadata": {},
   "outputs": [
    {
     "ename": "SyntaxError",
     "evalue": "invalid syntax (<ipython-input-72-e1c8f23b1481>, line 1)",
     "output_type": "error",
     "traceback": [
      "\u001b[0;36m  File \u001b[0;32m\"<ipython-input-72-e1c8f23b1481>\"\u001b[0;36m, line \u001b[0;32m1\u001b[0m\n\u001b[0;31m    if(gen_schema[1] - target_schema[1] = 1):\u001b[0m\n\u001b[0m                                        ^\u001b[0m\n\u001b[0;31mSyntaxError\u001b[0m\u001b[0;31m:\u001b[0m invalid syntax\n"
     ]
    }
   ],
   "source": [
    "if(gen_schema[1] - target_schema[1] = 1):\n",
    "    print(\"yep!\")"
   ]
  },
  {
   "cell_type": "code",
   "execution_count": 78,
   "metadata": {},
   "outputs": [
    {
     "name": "stdout",
     "output_type": "stream",
     "text": [
      "nope!\n"
     ]
    }
   ],
   "source": [
    "a = 5\n",
    "b = 3\n",
    "if (a - b == 1):\n",
    "    print(\"yep!\")\n",
    "else: \n",
    "    print(\"nope!\")"
   ]
  },
  {
   "cell_type": "code",
   "execution_count": 86,
   "metadata": {},
   "outputs": [
    {
     "name": "stdout",
     "output_type": "stream",
     "text": [
      "[]\n",
      "[]\n",
      "[]\n",
      "['so far (pour blood over me)']\n",
      "[]\n",
      "[]\n",
      "[]\n",
      "[]\n",
      "[]\n",
      "[]\n",
      "[]\n",
      "['you looked after me right through']\n",
      "[]\n",
      "[]\n",
      "[]\n",
      "[]\n",
      "[]\n"
     ]
    }
   ],
   "source": [
    "for num, line in enumerate(gen_lyrics):\n",
    "    new_lyrics = []\n",
    "    if ((gen_schema[num] - target_schema[num]) == 0): \n",
    "        new_lyrics.append(line)\n",
    "    else if ((gen_schema[num] - target_schema[num] > 0):\n",
    "        \n",
    "        \n",
    "    print(new_lyrics)"
   ]
  },
  {
   "cell_type": "code",
   "execution_count": null,
   "metadata": {
    "collapsed": true
   },
   "outputs": [],
   "source": [
    "def fit_lyrics(gen_schema, gen_lyrics, target_schema, target_lyrics)\n",
    "    \n",
    "    new_lyrics = []\n",
    "    \n",
    "    for line in gen_lyrics\n",
    "        if (gen_schema(line) - target_schema(line)) = 0 \n",
    "            new_lyrics.append()\n",
    "            \n",
    "\n",
    "return processed_lyrics"
   ]
  },
  {
   "cell_type": "code",
   "execution_count": null,
   "metadata": {
    "collapsed": true
   },
   "outputs": [],
   "source": [
    "#fit_lyrics(generated_text, target_schema)"
   ]
  }
 ],
 "metadata": {
  "kernelspec": {
   "display_name": "Python 3",
   "language": "python",
   "name": "python3"
  },
  "language_info": {
   "codemirror_mode": {
    "name": "ipython",
    "version": 3
   },
   "file_extension": ".py",
   "mimetype": "text/x-python",
   "name": "python",
   "nbconvert_exporter": "python",
   "pygments_lexer": "ipython3",
   "version": "3.6.10"
  },
  "toc": {
   "base_numbering": 1,
   "nav_menu": {},
   "number_sections": true,
   "sideBar": true,
   "skip_h1_title": false,
   "title_cell": "Table of Contents",
   "title_sidebar": "Contents",
   "toc_cell": false,
   "toc_position": {},
   "toc_section_display": true,
   "toc_window_display": false
  }
 },
 "nbformat": 4,
 "nbformat_minor": 4
}
